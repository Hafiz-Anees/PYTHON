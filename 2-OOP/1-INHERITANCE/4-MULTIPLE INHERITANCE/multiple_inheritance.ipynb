{
 "cells": [
  {
   "cell_type": "markdown",
   "id": "1d912cc3",
   "metadata": {},
   "source": [
    "## Multiple Inheritance\n",
    "\n",
    "👉 In OOP (Object-Oriented Programming), multiple inheritance means a class can inherit properties and methods from more than one parent class."
   ]
  },
  {
   "cell_type": "code",
   "execution_count": null,
   "id": "056bd9c6",
   "metadata": {},
   "outputs": [
    {
     "name": "stdout",
     "output_type": "stream",
     "text": [
      "I am a Professor\n",
      "I am a Teacher\n",
      "(<class '__main__.Professor'>, <class '__main__.Teacher'>, <class '__main__.Researcher'>, <class 'object'>)\n"
     ]
    }
   ],
   "source": [
    "# Parent class 1\n",
    "class Teacher:\n",
    "    def show(self):\n",
    "        print(\"I am a Teacher\")\n",
    "\n",
    "# Parent class 2\n",
    "class Researcher:\n",
    "    def show(self):\n",
    "        print(\"I am a Researcher\")\n",
    "\n",
    "# Child class (inherits from both Teacher and Researcher)\n",
    "class Professor(Teacher, Researcher):\n",
    "    def display(self):\n",
    "        print(\"I am a Professor\")\n",
    "\n",
    "# Create object\n",
    "p1 = Professor()\n",
    "\n",
    "# Call methods\n",
    "p1.display()      \n",
    "p1.show()         \n",
    "\n",
    "# Check Method Resolution Order (MRO)\n",
    "print(Professor.__mro__)\n"
   ]
  },
  {
   "cell_type": "code",
   "execution_count": 4,
   "id": "78f66d99",
   "metadata": {},
   "outputs": [
    {
     "name": "stdout",
     "output_type": "stream",
     "text": [
      "[<class '__main__.Child'>, <class '__main__.Father'>, <class '__main__.Mother'>, <class 'object'>]\n",
      "Driving\n"
     ]
    }
   ],
   "source": [
    "# another example\n",
    "\n",
    "class Father:\n",
    "    def skill(self):\n",
    "        print(\"Driving\")\n",
    "\n",
    "class Mother:\n",
    "    def skill(self):\n",
    "        print(\"cooking\")\n",
    "\n",
    "class Child(Father,Mother):\n",
    "    pass\n",
    "\n",
    "print(Child.mro())\n",
    "c1 = Child()\n",
    "c1.skill()"
   ]
  },
  {
   "cell_type": "code",
   "execution_count": null,
   "id": "4fca6ec9",
   "metadata": {},
   "outputs": [],
   "source": []
  }
 ],
 "metadata": {
  "kernelspec": {
   "display_name": "Python 3",
   "language": "python",
   "name": "python3"
  },
  "language_info": {
   "codemirror_mode": {
    "name": "ipython",
    "version": 3
   },
   "file_extension": ".py",
   "mimetype": "text/x-python",
   "name": "python",
   "nbconvert_exporter": "python",
   "pygments_lexer": "ipython3",
   "version": "3.13.7"
  }
 },
 "nbformat": 4,
 "nbformat_minor": 5
}
