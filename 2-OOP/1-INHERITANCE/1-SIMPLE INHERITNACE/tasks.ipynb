{
 "cells": [
  {
   "cell_type": "markdown",
   "id": "20b99c21",
   "metadata": {},
   "source": [
    "🔹 Problem 1: Student & Graduate\n",
    "\n",
    "Description:\n",
    "\n",
    "- Create a parent class `Student` \n",
    "    - with attributes: name and age\n",
    "    - method show_details().\n",
    "\n",
    "- Create a child class `GraduateStudent` that inherits from `Student`\n",
    "    - adds an attribute degree.\n",
    "\n",
    "- Override the show_details() method to also print the degree.\n",
    "\n",
    "- Create objects of both classes and show their details.\n",
    "\n",
    "👉 Goal: Practice constructor chaining (super()) and method overriding."
   ]
  },
  {
   "cell_type": "code",
   "execution_count": 4,
   "id": "93a10a81",
   "metadata": {},
   "outputs": [
    {
     "name": "stdout",
     "output_type": "stream",
     "text": [
      "Ali | 23\n"
     ]
    }
   ],
   "source": [
    "# solution\n",
    "class Student:\n",
    "    def __init__(self,name,age):\n",
    "        self.name = name\n",
    "        self.age = age\n",
    "    def show_details(self):\n",
    "        print(f\"{self.name} | {self.age}\")\n",
    "\n",
    "class GraduateStudent(Student):\n",
    "    def __init__(self,name,age,degree):\n",
    "        self.degree = degree\n",
    "        super().__init__(name,age)\n",
    "\n",
    "    def show_details(self):\n",
    "        print(f\"{self.name} | {self.age} | {self.degree}\")\n",
    "\n",
    "\n",
    "S1 = Student('Ali',23)\n",
    "S1.show_details()"
   ]
  },
  {
   "cell_type": "code",
   "execution_count": 6,
   "id": "7fb5498a",
   "metadata": {},
   "outputs": [
    {
     "name": "stdout",
     "output_type": "stream",
     "text": [
      "Ali | 24 | yes\n"
     ]
    }
   ],
   "source": [
    "Graduate1 = GraduateStudent('Ali',24,\"yes\")\n",
    "Graduate1.show_details()"
   ]
  },
  {
   "cell_type": "code",
   "execution_count": null,
   "id": "81027cea",
   "metadata": {},
   "outputs": [],
   "source": []
  }
 ],
 "metadata": {
  "kernelspec": {
   "display_name": "Python 3",
   "language": "python",
   "name": "python3"
  },
  "language_info": {
   "codemirror_mode": {
    "name": "ipython",
    "version": 3
   },
   "file_extension": ".py",
   "mimetype": "text/x-python",
   "name": "python",
   "nbconvert_exporter": "python",
   "pygments_lexer": "ipython3",
   "version": "3.13.7"
  }
 },
 "nbformat": 4,
 "nbformat_minor": 5
}
