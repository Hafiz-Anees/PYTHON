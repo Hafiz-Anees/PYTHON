{
 "cells": [
  {
   "cell_type": "markdown",
   "id": "672c479c",
   "metadata": {},
   "source": [
    "## hierarchical inheritance\n",
    "\n",
    "In hierarchical inheritance, multiple child classes inherit from the same parent class.\n",
    "\n",
    "- One parent → many children."
   ]
  },
  {
   "cell_type": "code",
   "execution_count": 5,
   "id": "e18b5047",
   "metadata": {},
   "outputs": [],
   "source": [
    "# Parent Class\n",
    "class Person:\n",
    "    def __init__(self, name, age):\n",
    "        self.name = name\n",
    "        self.age = age\n",
    "    \n",
    "    def display_info(self):\n",
    "        print(f\"Name: {self.name}, Age: {self.age}\")\n",
    "    \n",
    "    def speak(self):\n",
    "        print(f\"{self.name} is speaking...\")\n",
    "\n",
    "# Child Class 1: Male\n",
    "class Male(Person):\n",
    "    def __init__(self, name, age, beard):\n",
    "        super().__init__(name, age)   # Call parent constructor\n",
    "        self.beard = beard           # extra attribute\n",
    "    \n",
    "    def display_info(self):   # Method Overriding\n",
    "        super().display_info()\n",
    "        if self.beard:\n",
    "            print(\"has beard\")\n",
    "       \n",
    "    \n",
    "    def hobby(self):\n",
    "        print(f\"{self.name} loves playing cricket.\")\n",
    "\n",
    "# Child Class 2: Female\n",
    "class Female(Person):\n",
    "    def __init__(self, name, age, long_hair):\n",
    "        super().__init__(name, age)\n",
    "        self.long_hair = long_hair\n",
    "    \n",
    "    def display_info(self):\n",
    "        super().display_info()\n",
    "        if self.long_hair:\n",
    "            print(\"has long hairs\")\n",
    "    \n",
    "    def hobby(self):\n",
    "        print(f\"{self.name} loves painting.\")\n"
   ]
  },
  {
   "cell_type": "code",
   "execution_count": 6,
   "id": "45882350",
   "metadata": {},
   "outputs": [
    {
     "name": "stdout",
     "output_type": "stream",
     "text": [
      "Name: ali, Age: 23\n",
      "has beard\n"
     ]
    }
   ],
   "source": [
    "M1 = Male(\"ali\",23,'yes')\n",
    "M1.display_info()"
   ]
  },
  {
   "cell_type": "code",
   "execution_count": 7,
   "id": "2a555947",
   "metadata": {},
   "outputs": [
    {
     "name": "stdout",
     "output_type": "stream",
     "text": [
      "Name: Anaya, Age: 23\n",
      "has long hairs\n"
     ]
    }
   ],
   "source": [
    "F1 = Female(\"Anaya\",23,'yes')\n",
    "F1.display_info()"
   ]
  },
  {
   "cell_type": "code",
   "execution_count": null,
   "id": "5b43979a",
   "metadata": {},
   "outputs": [],
   "source": []
  }
 ],
 "metadata": {
  "kernelspec": {
   "display_name": "Python 3",
   "language": "python",
   "name": "python3"
  },
  "language_info": {
   "codemirror_mode": {
    "name": "ipython",
    "version": 3
   },
   "file_extension": ".py",
   "mimetype": "text/x-python",
   "name": "python",
   "nbconvert_exporter": "python",
   "pygments_lexer": "ipython3",
   "version": "3.13.7"
  }
 },
 "nbformat": 4,
 "nbformat_minor": 5
}
