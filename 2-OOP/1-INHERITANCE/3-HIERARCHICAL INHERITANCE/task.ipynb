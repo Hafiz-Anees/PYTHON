{
 "cells": [
  {
   "cell_type": "markdown",
   "id": "094100e4",
   "metadata": {},
   "source": [
    "Task 1: `Employee Hierarchy`\n",
    "\n",
    "Parent class: `Employee` (name, salary, get_details()).\n",
    "\n",
    "Children:\n",
    "\n",
    "- `Manager` (department, assign_task())\n",
    "\n",
    "- `Developer` (programming_language, write_code())\n",
    "\n",
    "- `Designer` (design_tool, create_design())\n",
    "\n",
    "Demonstrate how each child has both common methods (from Employee) and unique methods."
   ]
  },
  {
   "cell_type": "code",
   "execution_count": 1,
   "id": "595d60d9",
   "metadata": {},
   "outputs": [],
   "source": [
    "class Employee:\n",
    "    def __init__(self,name,salary):\n",
    "        self.name = name\n",
    "        self.salary = salary\n",
    "\n",
    "    def get_detail(self):\n",
    "        print(f\"{self.name} | {self.salary}\")\n",
    "\n",
    "\n",
    "class Manager(Employee):\n",
    "    def __init__(self,name,salary):\n",
    "        super().__init__(name,salary)\n",
    "    \n",
    "    def assign_task(self):\n",
    "        print(f\"{self.name} assign the task\")\n",
    "\n",
    "class Developer(Employee):\n",
    "    def __init__(self,name,salary):\n",
    "        super().__init__(name,salary)\n",
    "    \n",
    "    def write_code(self):\n",
    "        print(f\"{self.name} writing code\")\n",
    "\n",
    "class Designer(Employee):\n",
    "    def __init__(self,name,salary):\n",
    "        super().__init__(name,salary)\n",
    "    \n",
    "    def create_design(self):\n",
    "        print(f\"{self.name} creating design\")\n",
    "    "
   ]
  },
  {
   "cell_type": "markdown",
   "id": "b2cc012b",
   "metadata": {},
   "source": [
    "- Creating Object of Manager class"
   ]
  },
  {
   "cell_type": "code",
   "execution_count": 3,
   "id": "ea628114",
   "metadata": {},
   "outputs": [
    {
     "name": "stdout",
     "output_type": "stream",
     "text": [
      "Anees | 20000\n",
      "Anees assign the task\n"
     ]
    }
   ],
   "source": [
    "manager = Manager(\"Anees\",20000)\n",
    "manager.get_detail()\n",
    "manager.assign_task()"
   ]
  },
  {
   "cell_type": "markdown",
   "id": "c3edd523",
   "metadata": {},
   "source": [
    "- creating object of Developer class"
   ]
  },
  {
   "cell_type": "code",
   "execution_count": 4,
   "id": "229faf6b",
   "metadata": {},
   "outputs": [
    {
     "name": "stdout",
     "output_type": "stream",
     "text": [
      "umer | 10000\n",
      "umer writing code\n"
     ]
    }
   ],
   "source": [
    "developer = Developer(\"umer\",10000)\n",
    "developer.get_detail()\n",
    "developer.write_code()"
   ]
  },
  {
   "cell_type": "markdown",
   "id": "d5ae32a3",
   "metadata": {},
   "source": [
    "- creating object of Designer class"
   ]
  },
  {
   "cell_type": "code",
   "execution_count": 6,
   "id": "6f978a84",
   "metadata": {},
   "outputs": [
    {
     "name": "stdout",
     "output_type": "stream",
     "text": [
      "Ali | 10000\n",
      "Ali creating design\n"
     ]
    }
   ],
   "source": [
    "designer1 = Designer(\"Ali\",10000)\n",
    "designer1.get_detail()\n",
    "designer1.create_design()"
   ]
  },
  {
   "cell_type": "code",
   "execution_count": null,
   "id": "57489298",
   "metadata": {},
   "outputs": [],
   "source": []
  }
 ],
 "metadata": {
  "kernelspec": {
   "display_name": "Python 3",
   "language": "python",
   "name": "python3"
  },
  "language_info": {
   "codemirror_mode": {
    "name": "ipython",
    "version": 3
   },
   "file_extension": ".py",
   "mimetype": "text/x-python",
   "name": "python",
   "nbconvert_exporter": "python",
   "pygments_lexer": "ipython3",
   "version": "3.13.7"
  }
 },
 "nbformat": 4,
 "nbformat_minor": 5
}
