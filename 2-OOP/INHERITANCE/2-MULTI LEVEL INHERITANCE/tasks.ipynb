{
 "cells": [
  {
   "cell_type": "markdown",
   "id": "5bee7e8d",
   "metadata": {},
   "source": [
    "🚀 Tasks for Practicing Multilevel Inheritance\n",
    "\n",
    "Task 1 – Simple Chain\n",
    "\n",
    "- Create a Base class `Person` with \n",
    "    - `attributes` like `name` and `age` \n",
    "    - `method` to `display()` them.\n",
    "\n",
    "- Derive a class `Student` from Person that adds `roll_number` and `course`.\n",
    "\n",
    "- Derive a class `GraduateStudent` from `Student` that adds `specialization` and `thesis_title.`\n",
    "\n",
    "- 👉 Goal: Practice basic constructor chaining."
   ]
  },
  {
   "cell_type": "code",
   "execution_count": 11,
   "id": "353a735d",
   "metadata": {},
   "outputs": [],
   "source": [
    "class Person:\n",
    "    def __init__(self,name,age):\n",
    "        self.name = name\n",
    "        self.age = age\n",
    "\n",
    "    def display(self):\n",
    "        print(f\"{self.name} | {self.age}\")\n",
    "\n",
    "class Student(Person):\n",
    "    def __init__(self,name,age,roll_number,course):\n",
    "        self.roll_number = roll_number\n",
    "        self.course = course\n",
    "        super().__init__(name,age)\n",
    "\n",
    "class GraduateStudent(Student):\n",
    "    def __init__(self,name,age,roll_number,course,specialization,thesis_title):\n",
    "        self.specialization = specialization\n",
    "        self.thesis_title = thesis_title\n",
    "        super().__init__(name,age,roll_number,course)\n",
    "\n"
   ]
  },
  {
   "cell_type": "code",
   "execution_count": 12,
   "id": "32eea6c7",
   "metadata": {},
   "outputs": [],
   "source": [
    "G1 = GraduateStudent(\"anees\",23,221030,'oop','cs','ml')"
   ]
  },
  {
   "cell_type": "code",
   "execution_count": 13,
   "id": "4c63dd9b",
   "metadata": {},
   "outputs": [
    {
     "name": "stdout",
     "output_type": "stream",
     "text": [
      "anees | 23\n"
     ]
    }
   ],
   "source": [
    "G1.display()"
   ]
  },
  {
   "cell_type": "code",
   "execution_count": null,
   "id": "62ada480",
   "metadata": {},
   "outputs": [],
   "source": []
  }
 ],
 "metadata": {
  "kernelspec": {
   "display_name": "Python 3",
   "language": "python",
   "name": "python3"
  },
  "language_info": {
   "codemirror_mode": {
    "name": "ipython",
    "version": 3
   },
   "file_extension": ".py",
   "mimetype": "text/x-python",
   "name": "python",
   "nbconvert_exporter": "python",
   "pygments_lexer": "ipython3",
   "version": "3.13.7"
  }
 },
 "nbformat": 4,
 "nbformat_minor": 5
}
