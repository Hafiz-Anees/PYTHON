{
 "cells": [
  {
   "cell_type": "code",
   "execution_count": 1,
   "id": "dfad56f1",
   "metadata": {},
   "outputs": [
    {
     "name": "stdout",
     "output_type": "stream",
     "text": [
      "Company Name: ABM\n",
      "Company Location: islamabad\n",
      "Name: anees\n",
      "Age: 22\n",
      "gender: male\n"
     ]
    }
   ],
   "source": [
    "class company():\n",
    "\n",
    "    def __init__(self,company_name,location):\n",
    "        self.name=company_name\n",
    "        self.location=location\n",
    "\n",
    "    def Display(self):\n",
    "        print(f\"Company Name: {self.name}\")\n",
    "        print(f\"Company Location: {self.location}\")\n",
    "\n",
    "class people(company):\n",
    "\n",
    "    def __init__(self,company_name,location,name,age,gender):\n",
    "        # calling parent class constructor\n",
    "        super().__init__(company_name,location)\n",
    "        self.person_name=name\n",
    "        self.age=age\n",
    "        self.gender = gender\n",
    "        \n",
    "    def display(self):\n",
    "        super().Display()\n",
    "        print(f\"Name: {self.person_name}\")\n",
    "        print(f\"Age: {self.age}\")\n",
    "        print(f\"gender: {self.gender}\")\n",
    "         \n",
    "\n",
    "class employee(people):\n",
    "    def __init__(self,company_name,location,name,age,gender):\n",
    "        super().__init__(company_name,location,name,age,gender)\n",
    "        super().display()\n",
    "\n",
    "\n",
    "E1 = employee('ABM','islamabad','anees',22,'male')\n",
    "        \n"
   ]
  },
  {
   "cell_type": "code",
   "execution_count": null,
   "id": "eb5a66ac",
   "metadata": {},
   "outputs": [],
   "source": []
  }
 ],
 "metadata": {
  "kernelspec": {
   "display_name": "Python 3",
   "language": "python",
   "name": "python3"
  },
  "language_info": {
   "codemirror_mode": {
    "name": "ipython",
    "version": 3
   },
   "file_extension": ".py",
   "mimetype": "text/x-python",
   "name": "python",
   "nbconvert_exporter": "python",
   "pygments_lexer": "ipython3",
   "version": "3.13.7"
  }
 },
 "nbformat": 4,
 "nbformat_minor": 5
}
