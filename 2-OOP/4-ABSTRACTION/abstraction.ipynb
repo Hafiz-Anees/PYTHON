{
 "cells": [
  {
   "cell_type": "markdown",
   "id": "af936d49",
   "metadata": {},
   "source": [
    "# Abstraction\n",
    "- it means `exposing what an object does` (its public interface) while `hiding how it does it` (the implementation). \n",
    "- It reduces complexity by letting users work with a simple interface instead of implementation details.\n",
    "\n",
    "## abstraction vs interface\n",
    "\n",
    "**Abstraction** = \"Don’t show me how it’s done.\"\n",
    "\n",
    "**Interface** = \"Just tell me what must be done.\""
   ]
  },
  {
   "cell_type": "code",
   "execution_count": 1,
   "id": "7021a862",
   "metadata": {},
   "outputs": [
    {
     "name": "stdout",
     "output_type": "stream",
     "text": [
      "car engine started!\n"
     ]
    }
   ],
   "source": [
    "from abc import ABC, abstractmethod\n",
    "## define abstract class\n",
    "class Vehicle(ABC):\n",
    "    def drive(self):\n",
    "        print(\"The vehicle is used for driving\")\n",
    "\n",
    "    # interface is here , define your own definition in child class \n",
    "    @abstractmethod\n",
    "    def start_engine(self):\n",
    "        pass\n",
    "\n",
    "class Car(Vehicle):\n",
    "    def start_engine(self):\n",
    "        print(\"car engine started!\")\n",
    "\n",
    "\n",
    "def operate_vehicle(vehicle):\n",
    "    vehicle.start_engine()\n",
    "\n",
    "\n",
    "car1 = Car()\n",
    "operate_vehicle(car1)\n"
   ]
  },
  {
   "cell_type": "code",
   "execution_count": null,
   "id": "56d4708e",
   "metadata": {},
   "outputs": [],
   "source": []
  }
 ],
 "metadata": {
  "kernelspec": {
   "display_name": "Python 3",
   "language": "python",
   "name": "python3"
  },
  "language_info": {
   "codemirror_mode": {
    "name": "ipython",
    "version": 3
   },
   "file_extension": ".py",
   "mimetype": "text/x-python",
   "name": "python",
   "nbconvert_exporter": "python",
   "pygments_lexer": "ipython3",
   "version": "3.13.7"
  }
 },
 "nbformat": 4,
 "nbformat_minor": 5
}
