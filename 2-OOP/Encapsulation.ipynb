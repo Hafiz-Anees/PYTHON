{
 "cells": [
  {
   "cell_type": "markdown",
   "metadata": {},
   "source": [
    "## Encapsualtion:\n",
    "- Encapsulation promotes data hiding, ensuring that objects control their own data and behavior,\n",
    "- It helps to maintain code integrity and abstraction\n",
    "- private , public , protected"
   ]
  },
  {
   "cell_type": "code",
   "execution_count": 6,
   "metadata": {},
   "outputs": [
    {
     "name": "stdout",
     "output_type": "stream",
     "text": [
      "constructor called \n",
      "Destructor called\n",
      "anees,12,anees@gmail.com\n",
      "anees,12,ikram@gmail.com\n"
     ]
    }
   ],
   "source": [
    "class ClassSchedule:\n",
    "   def __init__(self,name,age,gmail):\n",
    "       self.__name = name # private\n",
    "       self._age = age # protected\n",
    "       self.gmail = gmail # public \n",
    "       print(\"constructor called \")\n",
    "  \n",
    "   def __del__(self):\n",
    "       print('Destructor called')\n",
    "   def display(self):\n",
    "       print(f\"{self.__name},{self._age},{self.gmail}\")\n",
    "       \n",
    "\n",
    "obj = ClassSchedule('anees','12','anees@gmail.com')\n",
    "\n",
    "obj.display()\n",
    "\n",
    "obj.__name = \"umer\"  # will not change because it is private\n",
    "obj.gmail =\"ikram@gmail.com\" # will change cz can accees publically\n",
    "\n",
    "obj.display()"
   ]
  },
  {
   "cell_type": "markdown",
   "metadata": {},
   "source": []
  }
 ],
 "metadata": {
  "kernelspec": {
   "display_name": "Python 3",
   "language": "python",
   "name": "python3"
  },
  "language_info": {
   "codemirror_mode": {
    "name": "ipython",
    "version": 3
   },
   "file_extension": ".py",
   "mimetype": "text/x-python",
   "name": "python",
   "nbconvert_exporter": "python",
   "pygments_lexer": "ipython3",
   "version": "3.12.1"
  }
 },
 "nbformat": 4,
 "nbformat_minor": 2
}
