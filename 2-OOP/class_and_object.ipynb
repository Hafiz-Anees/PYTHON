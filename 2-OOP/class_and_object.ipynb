{
 "cells": [
  {
   "cell_type": "markdown",
   "id": "4afc5970",
   "metadata": {},
   "source": [
    "# Object-Oriented Programming (OOP)\n",
    "\n",
    "- **OOP (Object-Oriented Programming)** is a way of writing programs where we organize code into **objects**.  \n",
    "- These objects are like real-world things — they have **properties (data)** and **actions (functions/methods)**.\n",
    "\n",
    "---\n",
    "\n",
    "## Class vs Object\n",
    "\n",
    "### Class\n",
    "- A **class** is like a **blueprint** or **template**.  \n",
    "- It defines what data (attributes) and actions (methods) the object will have.  \n",
    "- Example: A **Car** class tells us that every car has a color, model, and can drive.\n",
    "\n",
    "### Object\n",
    "- An **object** is the **actual thing** created using the class.  \n",
    "- It is like a **real instance** of that blueprint.  \n",
    "- Example: A **Toyota Corolla (red, 2020 model)** is an **object** of the Car class.\n",
    "\n",
    "\n",
    "  \n"
   ]
  },
  {
   "cell_type": "code",
   "execution_count": 6,
   "id": "42a67231",
   "metadata": {},
   "outputs": [
    {
     "name": "stdout",
     "output_type": "stream",
     "text": [
      "Toyota | white\n"
     ]
    },
    {
     "data": {
      "text/plain": [
       "4"
      ]
     },
     "execution_count": 6,
     "metadata": {},
     "output_type": "execute_result"
    }
   ],
   "source": [
    "class Car:\n",
    "\n",
    "    wheel = 4 # this is class attribute (shared by all object)\n",
    "\n",
    "    \"\"\"\n",
    "    self > reference to the current object\n",
    "    name and color > object attributes \n",
    "    \"\"\"\n",
    "\n",
    "    # __init__ it is constructor and automatically called when an object is created\n",
    "    def __init__(self,name,color):\n",
    "        self.name = name\n",
    "        self.color = color\n",
    "\n",
    "    # it is a method used to get object information\n",
    "    def car_info(self):\n",
    "        print(f\"{self.name} | {self.color}\")\n",
    "\n",
    "\n",
    "# creating object\n",
    "car1 = Car('Toyota','white')\n",
    "car1.car_info()\n",
    "car1.wheel\n",
    "        "
   ]
  },
  {
   "cell_type": "code",
   "execution_count": 7,
   "id": "55aa2776",
   "metadata": {},
   "outputs": [
    {
     "name": "stdout",
     "output_type": "stream",
     "text": [
      "Mehran | red\n"
     ]
    },
    {
     "data": {
      "text/plain": [
       "4"
      ]
     },
     "execution_count": 7,
     "metadata": {},
     "output_type": "execute_result"
    }
   ],
   "source": [
    "car2= Car('Mehran','red')\n",
    "car2.car_info()\n",
    "car2.wheel"
   ]
  },
  {
   "cell_type": "code",
   "execution_count": null,
   "id": "3bc1e6df",
   "metadata": {},
   "outputs": [],
   "source": []
  }
 ],
 "metadata": {
  "kernelspec": {
   "display_name": "ml_env",
   "language": "python",
   "name": "python3"
  },
  "language_info": {
   "codemirror_mode": {
    "name": "ipython",
    "version": 3
   },
   "file_extension": ".py",
   "mimetype": "text/x-python",
   "name": "python",
   "nbconvert_exporter": "python",
   "pygments_lexer": "ipython3",
   "version": "3.13.4"
  }
 },
 "nbformat": 4,
 "nbformat_minor": 5
}
