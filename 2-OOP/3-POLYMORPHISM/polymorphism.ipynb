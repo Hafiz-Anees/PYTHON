{
 "cells": [
  {
   "cell_type": "markdown",
   "metadata": {},
   "source": [
    "## Polymorphism\n",
    "\n",
    "- In programming, polymorphism means the ability of a single entity (method, operator, or object) to take many forms.\n",
    "\n",
    "- In OOP (Object-Oriented Programming), polymorphism allows us to perform a single action in different ways depending on the object.\n",
    "\n",
    "✅ Example:\n",
    "\n",
    "A `remote`control can control:\n",
    "\n",
    "- A TV.\n",
    "\n",
    "- An AC.\n",
    "\n",
    "- A Fan.\n",
    "\n",
    "👉 Same remote (interface), but different actions depending on device → Polymorphism."
   ]
  },
  {
   "cell_type": "markdown",
   "metadata": {},
   "source": [
    "## Types of Polymorphism\n",
    "\n",
    "There are mainly two categories:\n",
    "\n",
    "### (A) `Compile-Time Polymorphism` (Static Polymorphism)\n",
    "\n",
    "Decided at compile time (before the program runs).\n",
    "\n",
    "Achieved using:\n",
    "\n",
    "`Function Overloading` → Same function name, different parameters.\n",
    "\n",
    "`Operator Overloading` → Same operator behaves differently for different data types.\n",
    "\n",
    "(In Python, function overloading is not natively supported, but operator overloading works.)\n",
    "\n",
    "### (B) `Run-Time Polymorphism` (Dynamic Polymorphism)\n",
    "\n",
    "Decided at runtime (while the program is running).\n",
    "\n",
    "Achieved using:\n",
    "\n",
    "`Method Overriding` → Subclass provides a new definition for a method of the parent class.\n",
    "\n",
    "`Duck Typing` (Python-specific) → If an object behaves like a type, it is treated like that type, regardless of its actual class."
   ]
  },
  {
   "cell_type": "markdown",
   "metadata": {},
   "source": [
    "<h3 style=\"background:green;color:white\">(A)compile time polymophism operator overloading</h3>\n"
   ]
  },
  {
   "cell_type": "code",
   "execution_count": 3,
   "metadata": {},
   "outputs": [
    {
     "name": "stdout",
     "output_type": "stream",
     "text": [
      "(6, 8)\n"
     ]
    }
   ],
   "source": [
    "\n",
    "# Custom operator overloading\n",
    "class Point:\n",
    "    def __init__(self, x, y):\n",
    "        self.x = x\n",
    "        self.y = y\n",
    "\n",
    "    def __add__(self, other):  # Overloading '+'\n",
    "        return Point(self.x + other.x, self.y + other.y)\n",
    "\n",
    "    def __str__(self):\n",
    "        return f\"({self.x}, {self.y})\"\n",
    "\n",
    "p1 = Point(2, 3)\n",
    "p2 = Point(4, 5)\n",
    "print(p1 + p2)  # (6, 8)\n"
   ]
  },
  {
   "cell_type": "markdown",
   "metadata": {},
   "source": [
    "## <h1 style=\"background:green;color:white\"> (B) Duck Typing (Polymorphism without inheritance)</h1>"
   ]
  },
  {
   "cell_type": "code",
   "execution_count": 2,
   "metadata": {},
   "outputs": [
    {
     "name": "stdout",
     "output_type": "stream",
     "text": [
      "Woof!\n",
      "Meow!\n",
      "Moo!\n"
     ]
    }
   ],
   "source": [
    "class Dog:\n",
    "    def speak(self):\n",
    "        return \"Woof!\"\n",
    "\n",
    "class Cat:\n",
    "    def speak(self):\n",
    "        return \"Meow!\"\n",
    "\n",
    "class Cow:\n",
    "    def speak(self):\n",
    "        return \"Moo!\"\n",
    "\n",
    "# Function demonstrating polymorphism\n",
    "def animal_sounds(animal):\n",
    "    print(animal.speak())\n",
    "\n",
    "# Creating objects of different classes\n",
    "dog = Dog()\n",
    "cat = Cat()\n",
    "cow = Cow()\n",
    "\n",
    "# Using the same method for different objects\n",
    "animal_sounds(dog)  # Output: Woof!\n",
    "animal_sounds(cat)  # Output: Meow!\n",
    "animal_sounds(cow)  # Output: Moo!\n"
   ]
  },
  {
   "cell_type": "markdown",
   "metadata": {},
   "source": [
    "## <h1 style=\"background:green;color:white\">(C) Method Overriding(Polymorphism through inheritance)</h1>"
   ]
  },
  {
   "cell_type": "code",
   "execution_count": 4,
   "metadata": {},
   "outputs": [
    {
     "name": "stdout",
     "output_type": "stream",
     "text": [
      "Dog barks\n",
      "Cat meows\n"
     ]
    }
   ],
   "source": [
    "class Animal:\n",
    "    def speak(self):\n",
    "        return \"Animal makes a sound\"\n",
    "\n",
    "class Dog(Animal):\n",
    "    def speak(self):\n",
    "        return \"Dog barks\"\n",
    "\n",
    "class Cat(Animal):\n",
    "    def speak(self):\n",
    "        return \"Cat meows\"\n",
    "\n",
    "# Polymorphism in action\n",
    "def animal_sound(animal):\n",
    "    print(animal.speak())\n",
    "\n",
    "# Different types of animals (polymorphic behavior)\n",
    "dog = Dog()\n",
    "cat = Cat()\n",
    "\n",
    "animal_sound(dog)  # Output: Dog barks\n",
    "animal_sound(cat)  # Output: Cat meows\n"
   ]
  },
  {
   "cell_type": "markdown",
   "metadata": {},
   "source": [
    "## <h1 style=\"background:green;color:white\"> Practice Task: Polymorphism with a Geometry System </h1>\n",
    "\n",
    "\n",
    "<p> You are building a Geometry System that deals with different shapes:</p>\n",
    "\n",
    "- Circle\n",
    "- Rectangle\n",
    "- Triangle. \n",
    "\n",
    "Each shape should:Calculate area differently (`method overriding` → runtime polymorphism).\n",
    "\n",
    "Support the `+ operator` to combine two shapes into a CompositeShape (operator overloading).\n",
    "\n",
    "Work with a function print_area(shape) that accepts any object with an area() method (duck typing).\n",
    "\n",
    "### Step 1: Create a Base Class\n",
    "\n",
    "Class `Shap`e with a method area() (default implementation returns 0).\n",
    "\n",
    "### Step 2: Create Subclasses\n",
    "\n",
    "Class `Circle`(radius) → overrides area() = πr².\n",
    "\n",
    "Class `Rectangle`(width, height) → overrides area() = w × h.\n",
    "\n",
    "Class `Triangle`(base, height) → overrides area() = ½ × base × height\n",
    "\n",
    "### Step 3: Implement Operator Overloading\n",
    "\n",
    "Overload the + operator in Shape so that:\n",
    "\n",
    "shape1 + shape2\n",
    "\n",
    "returns a CompositeShape object that stores multiple shapes.\n",
    "\n",
    "The CompositeShape should also have an area() method that returns the sum of all areas.\n",
    "\n",
    "### Step 4: Use Duck Typing\n",
    "\n",
    "Create a new class Square(side) (without inheriting from Shape) but still define an area() method.\n",
    "\n",
    "Test if print_area(Square(5)) works.\n",
    "\n",
    "### Step 5: Write a Testing Function\n",
    "\n",
    "Create multiple shapes.\n",
    "\n",
    "Print individual areas.\n",
    "\n",
    "Combine them with +.\n",
    "\n",
    "Print the area of the composite shape.\n",
    "\n",
    "Pass a Square object to print_area() (duck typing check).\n",
    "\n",
    "### 💡 Hints for Implementation\n",
    "\n",
    "Use math.pi for Circle area.\n",
    "\n",
    "For operator overloading, define:\n",
    "\n",
    "```\n",
    "def __add__(self, other):\n",
    "    return CompositeShape([self, other])\n",
    "```"
   ]
  },
  {
   "cell_type": "markdown",
   "metadata": {},
   "source": [
    "## Your Task: Implement all these steps in Python.\n",
    "\n",
    "- Once you write the code, run tests like:\n",
    "\n",
    "- c = Circle(5)\n",
    "- r = Rectangle(4, 6)\n",
    "- t = Triangle(3, 7)\n",
    "\n",
    "- print_area(c)\n",
    "- print_area(r)\n",
    "- print_area(t)\n",
    "\n",
    "- combo = c + r + t\n",
    "- print_area(combo)\n",
    "\n",
    "- sq = Square(4)\n",
    "- print_area(sq)"
   ]
  },
  {
   "cell_type": "code",
   "execution_count": null,
   "metadata": {},
   "outputs": [],
   "source": []
  }
 ],
 "metadata": {
  "kernelspec": {
   "display_name": "Python 3",
   "language": "python",
   "name": "python3"
  },
  "language_info": {
   "codemirror_mode": {
    "name": "ipython",
    "version": 3
   },
   "file_extension": ".py",
   "mimetype": "text/x-python",
   "name": "python",
   "nbconvert_exporter": "python",
   "pygments_lexer": "ipython3",
   "version": "3.13.7"
  }
 },
 "nbformat": 4,
 "nbformat_minor": 2
}
