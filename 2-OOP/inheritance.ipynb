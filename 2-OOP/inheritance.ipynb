{
 "cells": [
  {
   "cell_type": "markdown",
   "metadata": {},
   "source": [
    "## **Inheritance**\n",
    "\n",
    "- Inheritance is a fundamental concept in object-oriented programming (OOP). It allows **child class** to inherit attributes and methods from **parent class**"
   ]
  },
  {
   "cell_type": "markdown",
   "metadata": {},
   "source": [
    "## 1-simple inheritance"
   ]
  },
  {
   "cell_type": "code",
   "execution_count": 7,
   "metadata": {},
   "outputs": [
    {
     "name": "stdout",
     "output_type": "stream",
     "text": [
      "name of dog is : Buddy.\n",
      "Breed of dog is : Golden Retriever\n"
     ]
    }
   ],
   "source": [
    "# Parent class\n",
    "class Animal:\n",
    "    def __init__(self, name):\n",
    "        self.name = name\n",
    "    \n",
    "    def nameofdog(self):\n",
    "        print(f\"name of dog is : {self.name}.\")\n",
    "\n",
    "# Child class\n",
    "class Dog(Animal):\n",
    "    def __init__(self,name,breed): # Call the parent class constructor\n",
    "        super().__init__(name=name)\n",
    "        self.breed = breed\n",
    "\n",
    "    def dog_detail(self):\n",
    "        super().nameofdog()  # Call the parent class's speak method\n",
    "        print(f\"Breed of dog is : {self.breed}\")\n",
    "\n",
    "# Usage\n",
    "dog = Dog(\"Buddy\", \"Golden Retriever\")\n",
    "dog.dog_detail()\n",
    "\n",
    "# Output:\n",
    "# Buddy makes a sound.\n",
    "# Buddy barks.\n"
   ]
  },
  {
   "cell_type": "markdown",
   "metadata": {},
   "source": [
    "## 2-multilevel Inheritance"
   ]
  },
  {
   "cell_type": "code",
   "execution_count": 8,
   "metadata": {},
   "outputs": [
    {
     "name": "stdout",
     "output_type": "stream",
     "text": [
      "Company Name: ABM\n",
      "Company Location: islamabad\n",
      "Name: anees\n",
      "Age: 22\n",
      "gender: male\n"
     ]
    }
   ],
   "source": [
    "class company():\n",
    "    def __init__(self,company_name,location):\n",
    "        self.name=company_name\n",
    "        self.location=location\n",
    "    def Display(self):\n",
    "        print(f\"Company Name: {self.name}\")\n",
    "        print(f\"Company Location: {self.location}\")\n",
    "\n",
    "class people(company):\n",
    "    def __init__(self,company_name,location,name,age,gender):\n",
    "        super().__init__(company_name,location)\n",
    "        self.person_name=name\n",
    "        self.age=age\n",
    "        self.gender = gender\n",
    "    def display(self):\n",
    "        super().Display()\n",
    "        print(f\"Name: {self.person_name}\")\n",
    "        print(f\"Age: {self.age}\")\n",
    "        print(f\"gender: {self.gender}\")\n",
    "         \n",
    "\n",
    "class employee(people):\n",
    "    def __init__(self,company_name,location,name,age,gender):\n",
    "        super().__init__(company_name,location,name,age,gender)\n",
    "        super().display()\n",
    "\n",
    "\n",
    "E1 = employee('ABM','islamabad','anees',22,'male')\n",
    "        \n"
   ]
  },
  {
   "cell_type": "markdown",
   "metadata": {},
   "source": [
    "## 3-multiple Inheritance "
   ]
  },
  {
   "cell_type": "code",
   "execution_count": 10,
   "metadata": {},
   "outputs": [
    {
     "name": "stdout",
     "output_type": "stream",
     "text": [
      "Mother's name is: mother_name\n",
      "Mother's number is: 89578753240\n",
      "Child's name is: Anees\n",
      "Child's age is: 22\n",
      "Child's marks are: A\n"
     ]
    }
   ],
   "source": [
    "# First base class\n",
    "class Father():\n",
    "    def __init__(self, father_name, father_number):\n",
    "        self.father_name = father_name\n",
    "        self.father_number = father_number\n",
    "\n",
    "    def display(self):\n",
    "        print(\"Father's name is:\", self.father_name)\n",
    "        print(\"Father's number is:\", self.father_number)\n",
    "\n",
    "# Second base class\n",
    "class Mother():\n",
    "    def __init__(self, mother_name, mother_number):\n",
    "        self.mother_name = mother_name\n",
    "        self.mother_number = mother_number\n",
    "\n",
    "    def display(self):\n",
    "        print(\"Mother's name is:\", self.mother_name)\n",
    "        print(\"Mother's number is:\", self.mother_number)\n",
    "\n",
    "# Child class inheriting from both Father and Mother\n",
    "class child(Father, Mother):\n",
    "    def __init__(self, father_name, father_number, mother_name, mother_number, child_name, age, marks):\n",
    "        Father.__init__(self, father_name, father_number)  # Initialize Father's attributes\n",
    "        Mother.__init__(self, mother_name, mother_number)  # Initialize Mother's attributes\n",
    "        self.child_name = child_name  # Child's own attribute\n",
    "        self.age = age\n",
    "        self.marks = marks\n",
    "\n",
    "    def display(self):\n",
    "        # Display only Mother's details\n",
    "        Mother.display(self)\n",
    "        print(f\"Child's name is: {self.child_name}\")\n",
    "        print(f\"Child's age is: {self.age}\")\n",
    "        print(f\"Child's marks are: {self.marks}\")\n",
    "\n",
    "# Creating a child object\n",
    "ch1 = child('father_name', 64598437, 'mother_name', 89578753240, 'Anees', 22, 'A')\n",
    "ch1.display()\n"
   ]
  },
  {
   "cell_type": "code",
   "execution_count": null,
   "metadata": {},
   "outputs": [],
   "source": []
  }
 ],
 "metadata": {
  "kernelspec": {
   "display_name": "Python 3",
   "language": "python",
   "name": "python3"
  },
  "language_info": {
   "codemirror_mode": {
    "name": "ipython",
    "version": 3
   },
   "file_extension": ".py",
   "mimetype": "text/x-python",
   "name": "python",
   "nbconvert_exporter": "python",
   "pygments_lexer": "ipython3",
   "version": "3.12.1"
  }
 },
 "nbformat": 4,
 "nbformat_minor": 2
}
