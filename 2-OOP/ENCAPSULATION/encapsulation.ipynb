{
 "cells": [
  {
   "cell_type": "markdown",
   "id": "7162ac8c",
   "metadata": {},
   "source": [
    "# Encapsulation\n",
    "\n",
    "- It is the process of wrapping:\n",
    "    - data (variables/attributes) \n",
    "    - methods (functions) \n",
    "- into a single unit (class), and controlling access to them.\n",
    "\n",
    "## Key Concepts\n",
    "\n",
    "`Data Hiding` : Restricting direct access to variables.\n",
    "\n",
    "`Access Modifiers` : Decide how attributes/methods are accessed.\n",
    "\n",
    "- Public: Accessible everywhere.\n",
    "\n",
    "- Protected: Accessible within class + subclasses.\n",
    "\n",
    "- Private: Accessible only within the class.\n",
    "\n",
    "`Getters & Setters` : Methods to safely read (get) or update (set) private data"
   ]
  },
  {
   "cell_type": "code",
   "execution_count": 2,
   "id": "907b70a2",
   "metadata": {},
   "outputs": [],
   "source": [
    "class Student:\n",
    "    def __init__(self,name,age,marks):\n",
    "        self.name = name\n",
    "        self.age = age\n",
    "        self.__marks = marks\n",
    "\n",
    "    def get_marks(self):\n",
    "        return self.__marks\n",
    "\n",
    "\n",
    "s1 = Student(\"anees\",23,990)"
   ]
  },
  {
   "cell_type": "code",
   "execution_count": null,
   "id": "110a0f65",
   "metadata": {},
   "outputs": [
    {
     "data": {
      "text/plain": [
       "23"
      ]
     },
     "execution_count": 3,
     "metadata": {},
     "output_type": "execute_result"
    }
   ],
   "source": [
    "# public attributes can access outside the class\n",
    "s1.name\n",
    "s1.age"
   ]
  },
  {
   "cell_type": "code",
   "execution_count": null,
   "id": "917dc9c3",
   "metadata": {},
   "outputs": [
    {
     "ename": "AttributeError",
     "evalue": "'Student' object has no attribute 'marks'",
     "output_type": "error",
     "traceback": [
      "\u001b[31m---------------------------------------------------------------------------\u001b[39m",
      "\u001b[31mAttributeError\u001b[39m                            Traceback (most recent call last)",
      "\u001b[36mCell\u001b[39m\u001b[36m \u001b[39m\u001b[32mIn[6]\u001b[39m\u001b[32m, line 1\u001b[39m\n\u001b[32m----> \u001b[39m\u001b[32m1\u001b[39m \u001b[43ms1\u001b[49m\u001b[43m.\u001b[49m\u001b[43mmarks\u001b[49m\n",
      "\u001b[31mAttributeError\u001b[39m: 'Student' object has no attribute 'marks'"
     ]
    }
   ],
   "source": [
    "# it is private attrbute we can not access outside the class\n",
    "s1.marks"
   ]
  },
  {
   "cell_type": "code",
   "execution_count": 7,
   "id": "a3a1fdd5",
   "metadata": {},
   "outputs": [
    {
     "data": {
      "text/plain": [
       "990"
      ]
     },
     "execution_count": 7,
     "metadata": {},
     "output_type": "execute_result"
    }
   ],
   "source": [
    "# we have to call getter method to get pruvate attributes\n",
    "s1.get_marks()"
   ]
  },
  {
   "cell_type": "code",
   "execution_count": 22,
   "id": "99181cfb",
   "metadata": {},
   "outputs": [],
   "source": [
    "class Person:\n",
    "    def __init__(self,name,age,marks):\n",
    "        self.name = name\n",
    "        self._age = age\n",
    "        self.__marks = marks\n",
    "\n",
    "    def get_marks(self):\n",
    "        return self.__marks\n",
    "\n",
    "class Student(Person):\n",
    "\n",
    "    def get_age(self):\n",
    "        return self._age\n",
    "\n",
    "    def get_marks(self):\n",
    "        return self.__marks\n",
    "\n",
    "s1 = Student(\"anees\",23,990)"
   ]
  },
  {
   "cell_type": "code",
   "execution_count": null,
   "id": "00fee95b",
   "metadata": {},
   "outputs": [
    {
     "data": {
      "text/plain": [
       "23"
      ]
     },
     "execution_count": 25,
     "metadata": {},
     "output_type": "execute_result"
    }
   ],
   "source": [
    "s1.get_age() # age is accessible bcs it is protected"
   ]
  },
  {
   "cell_type": "code",
   "execution_count": null,
   "id": "6f48008c",
   "metadata": {},
   "outputs": [
    {
     "ename": "AttributeError",
     "evalue": "'Student' object has no attribute '_Student__marks'",
     "output_type": "error",
     "traceback": [
      "\u001b[31m---------------------------------------------------------------------------\u001b[39m",
      "\u001b[31mAttributeError\u001b[39m                            Traceback (most recent call last)",
      "\u001b[36mCell\u001b[39m\u001b[36m \u001b[39m\u001b[32mIn[24]\u001b[39m\u001b[32m, line 1\u001b[39m\n\u001b[32m----> \u001b[39m\u001b[32m1\u001b[39m \u001b[43ms1\u001b[49m\u001b[43m.\u001b[49m\u001b[43mget_marks\u001b[49m\u001b[43m(\u001b[49m\u001b[43m)\u001b[49m\n",
      "\u001b[36mCell\u001b[39m\u001b[36m \u001b[39m\u001b[32mIn[22]\u001b[39m\u001b[32m, line 16\u001b[39m, in \u001b[36mStudent.get_marks\u001b[39m\u001b[34m(self)\u001b[39m\n\u001b[32m     15\u001b[39m \u001b[38;5;28;01mdef\u001b[39;00m\u001b[38;5;250m \u001b[39m\u001b[34mget_marks\u001b[39m(\u001b[38;5;28mself\u001b[39m):\n\u001b[32m---> \u001b[39m\u001b[32m16\u001b[39m     \u001b[38;5;28;01mreturn\u001b[39;00m \u001b[38;5;28;43mself\u001b[39;49m\u001b[43m.\u001b[49m\u001b[43m__marks\u001b[49m\n",
      "\u001b[31mAttributeError\u001b[39m: 'Student' object has no attribute '_Student__marks'"
     ]
    }
   ],
   "source": [
    "s1.get_marks() ## marks can not accessible bcz it is private"
   ]
  },
  {
   "cell_type": "code",
   "execution_count": null,
   "id": "e6e47c0d",
   "metadata": {},
   "outputs": [],
   "source": []
  }
 ],
 "metadata": {
  "kernelspec": {
   "display_name": "Python 3",
   "language": "python",
   "name": "python3"
  },
  "language_info": {
   "codemirror_mode": {
    "name": "ipython",
    "version": 3
   },
   "file_extension": ".py",
   "mimetype": "text/x-python",
   "name": "python",
   "nbconvert_exporter": "python",
   "pygments_lexer": "ipython3",
   "version": "3.13.7"
  }
 },
 "nbformat": 4,
 "nbformat_minor": 5
}
