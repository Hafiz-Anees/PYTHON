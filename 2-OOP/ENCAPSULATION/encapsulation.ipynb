{
 "cells": [
  {
   "cell_type": "markdown",
   "id": "7162ac8c",
   "metadata": {},
   "source": [
    "# Encapsulation\n",
    "\n",
    "- It is the process of wrapping:\n",
    "    - data (variables/attributes) \n",
    "    - methods (functions) \n",
    "- into a single unit (class), and controlling access to them.\n",
    "\n",
    "## Key Concepts\n",
    "\n",
    "`Data Hiding` : Restricting direct access to variables.\n",
    "\n",
    "`Access Modifiers` : Decide how attributes/methods are accessed.\n",
    "\n",
    "- Public: Accessible everywhere.\n",
    "\n",
    "- Protected: Accessible within class + subclasses.\n",
    "\n",
    "- Private: Accessible only within the class.\n",
    "\n",
    "`Getters & Setters` : Methods to safely read (get) or update (set) private data"
   ]
  },
  {
   "cell_type": "code",
   "execution_count": null,
   "id": "907b70a2",
   "metadata": {},
   "outputs": [],
   "source": [
    "class Student:\n",
    "    def __init__(self,name,age,marks):\n",
    "        self.name = name\n",
    "        self._age = age\n",
    "        self.__marks = marks # private\n",
    "    # getter method\n",
    "    def get_marks(self):\n",
    "        return self.__marks\n",
    "    \n",
    "class graduatestudent(Student):\n",
    "    def __init__(self,name,age,marks):\n",
    "        super().__init__(name,age,marks)\n",
    "\n",
    "s1 = graduatestudent(\"anees\",23,990)"
   ]
  },
  {
   "cell_type": "code",
   "execution_count": 20,
   "id": "110a0f65",
   "metadata": {},
   "outputs": [
    {
     "data": {
      "text/plain": [
       "990"
      ]
     },
     "execution_count": 20,
     "metadata": {},
     "output_type": "execute_result"
    }
   ],
   "source": [
    "# public attributes can access outside the class\n",
    "s1.get_marks()"
   ]
  },
  {
   "cell_type": "code",
   "execution_count": null,
   "id": "c3d8c4da",
   "metadata": {},
   "outputs": [],
   "source": [
    "class Student:\n",
    "    def __init__(self,name,age,marks):\n",
    "        self.name = name\n",
    "        self._age = age\n",
    "        self.__marks = marks # private\n",
    "    # getter method\n",
    "    def __get_marks(self):\n",
    "        return self.__marks\n",
    "    \n",
    "class graduatestudent(Student):\n",
    "    def __init__(self,name,age,marks):\n",
    "        super().__init__(name,age,marks)\n",
    "\n",
    "s1 = graduatestudent(\"anees\",23,990)"
   ]
  }
 ],
 "metadata": {
  "kernelspec": {
   "display_name": "Python 3",
   "language": "python",
   "name": "python3"
  },
  "language_info": {
   "codemirror_mode": {
    "name": "ipython",
    "version": 3
   },
   "file_extension": ".py",
   "mimetype": "text/x-python",
   "name": "python",
   "nbconvert_exporter": "python",
   "pygments_lexer": "ipython3",
   "version": "3.13.7"
  }
 },
 "nbformat": 4,
 "nbformat_minor": 5
}
