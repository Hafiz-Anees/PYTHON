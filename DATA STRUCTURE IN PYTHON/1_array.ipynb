{
 "cells": [
  {
   "cell_type": "markdown",
   "id": "657244ad",
   "metadata": {},
   "source": [
    "## Array\n",
    "\n",
    "- an array is a data structure that stores a collection of items (elements)—usually of the `same data type` in a single variable. \n",
    "- Arrays are useful when you want to store and manipulate a sequence of values efficiently."
   ]
  },
  {
   "cell_type": "markdown",
   "id": "67fc9b51",
   "metadata": {},
   "source": [
    "## Array Methods in Python\n",
    "\n",
    "| **Method**        | **2D Support** | **Ease of Use** | **Best For**             |\n",
    "|------------------|----------------|------------------|---------------------------|\n",
    "| 📝 List of Lists | ✅              | 👍 Easy          | General purpose           |\n",
    "| 📦 `array` module| ❌              | 👎 Limited       | 1D only                   |\n",
    "| 🔢 NumPy         | ✅✅            | 💯 Powerful      | Math / Data Science       |\n"
   ]
  },
  {
   "cell_type": "markdown",
   "id": "ce74afdf",
   "metadata": {},
   "source": [
    "## <h1 style=\"color:green;text-transform:uppercase\">1D-Array in pyton</h1>"
   ]
  },
  {
   "cell_type": "code",
   "execution_count": 42,
   "id": "d62be7b2",
   "metadata": {},
   "outputs": [
    {
     "name": "stdout",
     "output_type": "stream",
     "text": [
      "10 20 30 40 50 "
     ]
    }
   ],
   "source": [
    "from array import *\n",
    "\n",
    "array1 = array('i',[10,20,30,40,50])\n",
    "\n",
    "for elements in array1:\n",
    "    print(elements,end=\" \")"
   ]
  },
  {
   "cell_type": "markdown",
   "id": "e55dd945",
   "metadata": {},
   "source": [
    "## inserting new element at specific index\n",
    "### syntax:\n",
    "- array_name.insert(index,value)"
   ]
  },
  {
   "cell_type": "code",
   "execution_count": 43,
   "id": "d4683a62",
   "metadata": {},
   "outputs": [
    {
     "name": "stdout",
     "output_type": "stream",
     "text": [
      "10 45 20 30 40 50 "
     ]
    }
   ],
   "source": [
    "array1.insert(1,45)\n",
    "for elements in array1:\n",
    "    print(elements,end=\" \")"
   ]
  },
  {
   "cell_type": "markdown",
   "id": "63ce152a",
   "metadata": {},
   "source": [
    "## Deleting value\n",
    "### syntax:\n",
    "- array_name.remove(value)"
   ]
  },
  {
   "cell_type": "code",
   "execution_count": 44,
   "id": "f9127ac4",
   "metadata": {},
   "outputs": [
    {
     "name": "stdout",
     "output_type": "stream",
     "text": [
      "10 20 30 40 50 "
     ]
    }
   ],
   "source": [
    "array1.remove(45)\n",
    "for elements in array1:\n",
    "    print(elements,end=\" \")"
   ]
  },
  {
   "cell_type": "markdown",
   "id": "6a255e96",
   "metadata": {},
   "source": [
    "## updating value\n"
   ]
  },
  {
   "cell_type": "code",
   "execution_count": 45,
   "id": "104f4948",
   "metadata": {},
   "outputs": [
    {
     "name": "stdout",
     "output_type": "stream",
     "text": [
      "45 20 30 40 50 "
     ]
    }
   ],
   "source": [
    "array1[0] = 45\n",
    "for elements in array1:\n",
    "    print(elements,end=\" \")"
   ]
  },
  {
   "cell_type": "markdown",
   "id": "ccd7d79f",
   "metadata": {},
   "source": [
    "## <h1 style=\"color:green;text-transform:uppercase\">2D-Array in pyton</h1>\n"
   ]
  },
  {
   "cell_type": "code",
   "execution_count": 46,
   "id": "825232dd",
   "metadata": {},
   "outputs": [],
   "source": [
    "array2 = [\n",
    "    [1,2,3],\n",
    "    [4,5,6],\n",
    "    [7,8,9]\n",
    "]"
   ]
  },
  {
   "cell_type": "code",
   "execution_count": 47,
   "id": "2c20645e",
   "metadata": {},
   "outputs": [
    {
     "name": "stdout",
     "output_type": "stream",
     "text": [
      "1 2 3 \n",
      "4 5 6 \n",
      "7 8 9 \n"
     ]
    }
   ],
   "source": [
    "for row in array2:\n",
    "    for col in row:\n",
    "        print(col,end=\" \")\n",
    "    print()"
   ]
  },
  {
   "cell_type": "markdown",
   "id": "37f5b9e7",
   "metadata": {},
   "source": [
    "## Inserting new Elements\n",
    "\n",
    "array_name.insert(row,value)"
   ]
  },
  {
   "cell_type": "code",
   "execution_count": 48,
   "id": "dd3fe7c4",
   "metadata": {},
   "outputs": [
    {
     "name": "stdout",
     "output_type": "stream",
     "text": [
      "1 2 3 \n",
      "5 6 7 \n",
      "4 5 6 \n",
      "7 8 9 \n"
     ]
    }
   ],
   "source": [
    "array2.insert(1,[5,6,7])\n",
    "\n",
    "for r in array2:\n",
    "    for c in r:\n",
    "        print(c,end=\" \")\n",
    "    print()"
   ]
  },
  {
   "cell_type": "markdown",
   "id": "8912706b",
   "metadata": {},
   "source": [
    "## Deleting an element"
   ]
  },
  {
   "cell_type": "code",
   "execution_count": 49,
   "id": "3104e2e1",
   "metadata": {},
   "outputs": [
    {
     "name": "stdout",
     "output_type": "stream",
     "text": [
      "1 2 3 \n",
      "4 5 6 \n",
      "7 8 9 \n"
     ]
    }
   ],
   "source": [
    "# deleting row 3\n",
    "del array2[1]\n",
    "\n",
    "for r in array2:\n",
    "    for c in r:\n",
    "        print(c,end=\" \")\n",
    "    print()"
   ]
  },
  {
   "cell_type": "markdown",
   "id": "7f86e016",
   "metadata": {},
   "source": [
    "## <h1 style=\"color:green;text-transform:uppercase\">numpy-Array in pyton</h1>\n"
   ]
  },
  {
   "cell_type": "code",
   "execution_count": 51,
   "id": "6459ac64",
   "metadata": {},
   "outputs": [
    {
     "name": "stdout",
     "output_type": "stream",
     "text": [
      "Note: you may need to restart the kernel to use updated packages.\n"
     ]
    }
   ],
   "source": [
    "%pip install numpy -q"
   ]
  },
  {
   "cell_type": "code",
   "execution_count": 1,
   "id": "5cac16a5",
   "metadata": {},
   "outputs": [],
   "source": [
    "import numpy"
   ]
  },
  {
   "cell_type": "code",
   "execution_count": 2,
   "id": "2b5c79b5",
   "metadata": {},
   "outputs": [],
   "source": [
    "np_array = numpy.array([[1,2,3],[4,5,6],[7,8,9]])"
   ]
  },
  {
   "cell_type": "code",
   "execution_count": 3,
   "id": "de4f52e3",
   "metadata": {},
   "outputs": [
    {
     "data": {
      "text/plain": [
       "array([[1, 2, 3],\n",
       "       [4, 5, 6],\n",
       "       [7, 8, 9]])"
      ]
     },
     "execution_count": 3,
     "metadata": {},
     "output_type": "execute_result"
    }
   ],
   "source": [
    "np_array"
   ]
  },
  {
   "cell_type": "code",
   "execution_count": null,
   "id": "4ef9fa40",
   "metadata": {},
   "outputs": [],
   "source": []
  }
 ],
 "metadata": {
  "kernelspec": {
   "display_name": "p_env",
   "language": "python",
   "name": "python3"
  },
  "language_info": {
   "codemirror_mode": {
    "name": "ipython",
    "version": 3
   },
   "file_extension": ".py",
   "mimetype": "text/x-python",
   "name": "python",
   "nbconvert_exporter": "python",
   "pygments_lexer": "ipython3",
   "version": "3.13.4"
  }
 },
 "nbformat": 4,
 "nbformat_minor": 5
}
