{
 "cells": [
  {
   "cell_type": "markdown",
   "metadata": {},
   "source": [
    "## Queue\n",
    "\n",
    "1 enqueue(item)\n",
    "\n",
    "- append(): (from Python's list) to add an item to the queue.\n",
    "  \n",
    "2 dequeue()\n",
    "- is_empty(): to check if the queue is empty.\n",
    "- pop(0): (from Python's list) to remove the front item from the queue.\n",
    "\n",
    "3 is_empty()\n",
    "- len(): to check the length of the queue.\n",
    "  \n",
    "4 peek()\n",
    "- is_empty(): to check if the queue is empty.\n",
    "\n",
    "5 display()\n",
    "- No internal functions; it just prints the queue."
   ]
  },
  {
   "cell_type": "code",
   "execution_count": 11,
   "metadata": {},
   "outputs": [
    {
     "name": "stdout",
     "output_type": "stream",
     "text": [
      "[0, 1, 2, 3, 4, 5, 6, 7, 8, 9]\n",
      "First element: 0\n",
      "Dequeued Element: 0\n"
     ]
    }
   ],
   "source": [
    "class Queue():\n",
    "    def __init__(self):\n",
    "        self.queue = []\n",
    "    \n",
    "    def enqueue(self, item):\n",
    "        self.queue.append(item)\n",
    "    \n",
    "    def dequeue(self):\n",
    "        if self.is_empty():\n",
    "            print(\"Queue is Empty!!\")\n",
    "        else:\n",
    "            item = self.queue.pop(0)\n",
    "            return item\n",
    "\n",
    "    def is_empty(self):\n",
    "        return len(self.queue) == 0\n",
    "        \n",
    "    def peek(self):\n",
    "        if not self.is_empty():\n",
    "            return self.queue[0]  # getting first element\n",
    "        else:\n",
    "            print(\"Queue is empty!\")\n",
    "    \n",
    "    def display(self):\n",
    "        print(self.queue)\n",
    "    \n",
    "q1 = Queue()\n",
    "\n",
    "# Insert 10 values\n",
    "for i in range(10):\n",
    "    q1.enqueue(i)\n",
    "\n",
    "q1.display()\n",
    "print(\"First element: {}\".format(q1.peek()))\n",
    "\n",
    "# Corrected line to show dequeued element\n",
    "print(\"Dequeued Element: {}\".format(q1.dequeue()))\n"
   ]
  },
  {
   "cell_type": "markdown",
   "metadata": {},
   "source": [
    "## Built in Queue\n",
    "\n",
    "- **__init__()**: Initializes a new queue object.\n",
    " \n",
    "- **put**(item, block=True, timeout=None): Adds an item to the end of the queue.\n",
    "\n",
    "- **get**(block=True, timeout=None): Removes and returns an item from the front of the queue.\n",
    "\n",
    "- **empty()**: Returns True if the queue is empty, False otherwise.\n",
    "\n",
    "- **full()**: Returns True if the queue is full, False otherwise (useful for bounded queues).\n",
    "\n",
    "- **qsize()**: Returns the approximate size of the queue.\n",
    "\n",
    "- **task_done()**: Indicates that a formerly enqueued task is complete (used in conjunction with join()).\n",
    "\n",
    "- **join()**: Blocks until all items in the queue have been processed"
   ]
  },
  {
   "cell_type": "code",
   "execution_count": 21,
   "metadata": {},
   "outputs": [
    {
     "name": "stdout",
     "output_type": "stream",
     "text": [
      "0 1 2 3 4 5 6 7 8 9 "
     ]
    }
   ],
   "source": [
    "import queue as q\n",
    "\n",
    "my_queue = q.Queue()\n",
    "\n",
    "for i in range(10):\n",
    "    my_queue.put(i)\n",
    "\n",
    "while not my_queue.empty():\n",
    "    print(my_queue.get(),end=\" \")\n",
    "\n"
   ]
  },
  {
   "cell_type": "markdown",
   "metadata": {},
   "source": []
  },
  {
   "cell_type": "markdown",
   "metadata": {},
   "source": [
    "## Stack\n",
    "\n",
    "1. **Push**: Adds an element to the top of the stack.\n",
    "   - `push(item)`\n",
    "\n",
    "2. **Pop**: Removes and returns the top element of the stack.\n",
    "   - `pop()`\n",
    "\n",
    "3. **Peek (or Top)**: Returns the top element without removing it.\n",
    "   - `peek()`\n",
    "\n",
    "4. **isEmpty**: Checks if the stack is empty.\n",
    "   - `is_empty()`\n",
    "\n",
    "5. **Size**: Returns the number of elements in the stack.\n",
    "   - `size()`\n",
    "\n",
    "6. **Display (optional)**: Shows all elements of the stack (for debugging).\n",
    "   - `display()`\n"
   ]
  },
  {
   "cell_type": "code",
   "execution_count": 12,
   "metadata": {},
   "outputs": [
    {
     "name": "stdout",
     "output_type": "stream",
     "text": [
      "[1, 2]\n",
      "Top value in stack is : 2\n"
     ]
    }
   ],
   "source": [
    "class Stack():\n",
    "    def __init__(self):\n",
    "        self.stack = []\n",
    "    \n",
    "    def push(self,item):\n",
    "        self.stack.append(item)\n",
    "    \n",
    "    def pop(self):\n",
    "        if not self.is_empty():\n",
    "            return self.stack.pop()\n",
    "        else:\n",
    "            return \"Stack in empty\"\n",
    "        \n",
    "    def peek(self):\n",
    "        if not self.is_empty():\n",
    "            return self.stack[len(self.stack)-1]\n",
    "        else:\n",
    "            return \"Stack is empty\"\n",
    "\n",
    "    def is_empty(self):\n",
    "        return len(self.stack) == 0\n",
    "        \n",
    "    def display(self):\n",
    "        print(self.stack)\n",
    "    \n",
    "s1 = Stack()\n",
    "\n",
    "s1.push(1)\n",
    "s1.push(2)\n",
    "s1.push(3)\n",
    "\n",
    "s1.pop()\n",
    "\n",
    "s1.display()\n",
    "\n",
    "print(\"Top value in stack is : {}\".format(s1.peek()))\n",
    "\n"
   ]
  },
  {
   "cell_type": "markdown",
   "metadata": {},
   "source": [
    "## Built in Satck\n",
    "\n",
    "### Built-in Functions for Stack in Python:\n",
    "\n",
    "1. **append()**: Adds an element to the top of the stack.\n",
    "   - `stack.append(item)`\n",
    "\n",
    "2. **pop()**: Removes and returns the top element of the stack.\n",
    "   - `stack.pop()`\n",
    "\n",
    "3. **[-1]**: To peek at the top element of the stack without removing it.\n",
    "   - `stack[-1]`\n",
    "\n",
    "4. **len()**: Returns the number of elements in the stack.\n",
    "   - `len(stack)`\n",
    "\n",
    "5. **not**: To check if the stack is empty.\n",
    "   - `not stack`\n"
   ]
  },
  {
   "cell_type": "code",
   "execution_count": 14,
   "metadata": {},
   "outputs": [
    {
     "name": "stdout",
     "output_type": "stream",
     "text": [
      "<class 'collections.deque'>\n"
     ]
    }
   ],
   "source": [
    "from collections import deque\n",
    "\n",
    "stack =  deque()\n",
    "\n",
    "for i in range(5):\n",
    "    stack.append(i)\n",
    "\n",
    "if not stack:\n",
    "    print(\"Stack is empty\")\n",
    "else:\n",
    "    print(type(stack))\n"
   ]
  },
  {
   "cell_type": "code",
   "execution_count": null,
   "metadata": {},
   "outputs": [],
   "source": []
  }
 ],
 "metadata": {
  "kernelspec": {
   "display_name": "Python 3",
   "language": "python",
   "name": "python3"
  },
  "language_info": {
   "codemirror_mode": {
    "name": "ipython",
    "version": 3
   },
   "file_extension": ".py",
   "mimetype": "text/x-python",
   "name": "python",
   "nbconvert_exporter": "python",
   "pygments_lexer": "ipython3",
   "version": "3.12.1"
  }
 },
 "nbformat": 4,
 "nbformat_minor": 2
}
