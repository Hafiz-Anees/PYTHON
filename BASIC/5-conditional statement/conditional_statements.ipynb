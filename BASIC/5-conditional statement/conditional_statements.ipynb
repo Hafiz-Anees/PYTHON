{
 "cells": [
  {
   "cell_type": "markdown",
   "metadata": {},
   "source": [
    "### Conditional statement\n",
    "In Python, a conditional statement is used to execute code based on whether a certain condition is true or false. The most common conditional statements in Python are `if`, `elif` (else if), and `else`.\n",
    "\n",
    "#### Key Conditional Statements:\n",
    "\n",
    "- **if statement**: Executes a block of code if the condition evaluates to `True`.\n",
    "- **elif statement**: Allows for additional conditions if the first condition (`if`) is `False`. You can have multiple `elif` statements.\n",
    "- **else statement**: Executes a block of code if none of the above conditions are `True`.\n",
    "\n",
    "#### Syntax:\n",
    "\n",
    "```python\n",
    "if condition:\n",
    "    # Block of code to execute if the condition is True\n",
    "elif another_condition:\n",
    "    # Block of code to execute if the previous condition is False, but this condition is True\n",
    "else:\n",
    "    # Block of code to execute if all the conditions are False"
   ]
  },
  {
   "cell_type": "markdown",
   "metadata": {},
   "source": [
    "- if"
   ]
  },
  {
   "cell_type": "code",
   "execution_count": 1,
   "metadata": {},
   "outputs": [
    {
     "name": "stdout",
     "output_type": "stream",
     "text": [
      "x is greater than 5\n"
     ]
    }
   ],
   "source": [
    "x = 10\n",
    "if x > 5:\n",
    "    print(\"x is greater than 5\")\n"
   ]
  },
  {
   "cell_type": "markdown",
   "metadata": {},
   "source": [
    "- if-else"
   ]
  },
  {
   "cell_type": "code",
   "execution_count": 2,
   "metadata": {},
   "outputs": [
    {
     "name": "stdout",
     "output_type": "stream",
     "text": [
      "x is less than 5\n"
     ]
    }
   ],
   "source": [
    "x = 3\n",
    "\n",
    "if x > 5:\n",
    "    print(\"x is greater than 5\")\n",
    "else:\n",
    "    print(\"x is less than 5\")\n"
   ]
  },
  {
   "cell_type": "markdown",
   "metadata": {},
   "source": [
    "- if-elif-else"
   ]
  },
  {
   "cell_type": "code",
   "execution_count": 3,
   "metadata": {},
   "outputs": [
    {
     "name": "stdout",
     "output_type": "stream",
     "text": [
      "x is equal to 10\n"
     ]
    }
   ],
   "source": [
    "x = 10\n",
    "\n",
    "if x < 5:\n",
    "    print(\"x is less than 5\")\n",
    "elif x == 10:\n",
    "    print(\"x is equal to 10\")\n",
    "else:\n",
    "    print(\"x is greater than 10\")\n"
   ]
  },
  {
   "cell_type": "markdown",
   "metadata": {},
   "source": [
    "### Nested if statements\n",
    "\n",
    "- when we use if statement inside the another if statement then it is called nested if statement"
   ]
  },
  {
   "cell_type": "code",
   "execution_count": 4,
   "metadata": {},
   "outputs": [
    {
     "name": "stdout",
     "output_type": "stream",
     "text": [
      "x is greater than 5 and y is greater than 15\n"
     ]
    }
   ],
   "source": [
    "x = 10\n",
    "y = 20\n",
    "\n",
    "if x > 5:\n",
    "    \n",
    "    if y > 15:\n",
    "        print(\"x is greater than 5 and y is greater than 15\")\n",
    "    else:\n",
    "        print(\"x is greater than 5 but y is not greater than 15\")\n"
   ]
  },
  {
   "cell_type": "code",
   "execution_count": null,
   "metadata": {},
   "outputs": [],
   "source": []
  }
 ],
 "metadata": {
  "kernelspec": {
   "display_name": "Python 3",
   "language": "python",
   "name": "python3"
  },
  "language_info": {
   "codemirror_mode": {
    "name": "ipython",
    "version": 3
   },
   "file_extension": ".py",
   "mimetype": "text/x-python",
   "name": "python",
   "nbconvert_exporter": "python",
   "pygments_lexer": "ipython3",
   "version": "3.12.1"
  }
 },
 "nbformat": 4,
 "nbformat_minor": 2
}
