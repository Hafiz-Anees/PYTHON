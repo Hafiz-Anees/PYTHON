{
 "cells": [
  {
   "cell_type": "markdown",
   "metadata": {},
   "source": [
    "In Python, a list is a collection data type that allows you to store multiple items in a single variable. Lists are ordered, mutable (meaning you can change their content), and allow duplicate elements.s.\n",
    "\n",
    "## Key Features of Lists\n",
    "\n",
    "- **Ordered:** Items have a specific order, and you can access them by their index.\n",
    "- **Mutable:** You can add, remove, or modify items.\n",
    "- **Allow Duplicates:** Lists can have duplicate elements.\n",
    "- **Diverse Data Types:** A list can contain different types of elements, such as integers, strings, and other lists."
   ]
  },
  {
   "cell_type": "markdown",
   "metadata": {},
   "source": [
    "### 1-Creating a List\n",
    "\n",
    "- Lists are created using square brackets [], and items are separated by commas."
   ]
  },
  {
   "cell_type": "code",
   "execution_count": 4,
   "metadata": {},
   "outputs": [
    {
     "name": "stdout",
     "output_type": "stream",
     "text": [
      "[1, 'apple', 3.5, True]\n"
     ]
    }
   ],
   "source": [
    "# Example of a list with different data types\n",
    "my_list = [1, \"apple\", 3.5, True]\n",
    "print(my_list)\n"
   ]
  },
  {
   "cell_type": "code",
   "execution_count": 2,
   "metadata": {},
   "outputs": [
    {
     "name": "stdout",
     "output_type": "stream",
     "text": [
      "apple\n",
      "cherry\n"
     ]
    }
   ],
   "source": [
    "# list of fruits\n",
    "\n",
    "fruits = [\"apple\", \"banana\", \"cherry\"]\n",
    "\n",
    "print(fruits[0])  # Output: apple\n",
    "print(fruits[2])  # Output: cherry\n"
   ]
  },
  {
   "cell_type": "markdown",
   "metadata": {},
   "source": [
    "### 2-Modifying a List"
   ]
  },
  {
   "cell_type": "code",
   "execution_count": 3,
   "metadata": {},
   "outputs": [
    {
     "name": "stdout",
     "output_type": "stream",
     "text": [
      "['apple', 'blueberry', 'cherry']\n"
     ]
    }
   ],
   "source": [
    "fruits[1] = \"blueberry\"\n",
    "print(fruits)  "
   ]
  },
  {
   "cell_type": "markdown",
   "metadata": {},
   "source": [
    "### Adding Elements to a List\n",
    "\n",
    "- **append():** Adds an element at the end of the list.\n",
    "- **insert():** Adds an element at a specific position."
   ]
  },
  {
   "cell_type": "code",
   "execution_count": 5,
   "metadata": {},
   "outputs": [
    {
     "name": "stdout",
     "output_type": "stream",
     "text": [
      "['apple', 'blueberry', 'cherry', 'orange']\n",
      "['apple', 'strawberry', 'blueberry', 'cherry', 'orange']\n"
     ]
    }
   ],
   "source": [
    "# Using append\n",
    "fruits.append(\"orange\")\n",
    "print(fruits)\n",
    "\n",
    "# Using insert\n",
    "fruits.insert(1, \"strawberry\")\n",
    "print(fruits)\n"
   ]
  },
  {
   "cell_type": "markdown",
   "metadata": {},
   "source": [
    "### 3-Removing Elements from a List\n",
    "\n",
    "- **remove():** Removes the first matching element.\n",
    "- **pop():** Removes an element by index (or the last element if index is not specified).\n",
    "- **clear():** Removes all elements."
   ]
  },
  {
   "cell_type": "code",
   "execution_count": 6,
   "metadata": {},
   "outputs": [
    {
     "name": "stdout",
     "output_type": "stream",
     "text": [
      "['apple', 'strawberry', 'blueberry', 'orange']\n",
      "['apple', 'strawberry', 'orange']\n"
     ]
    }
   ],
   "source": [
    "# Using remove\n",
    "fruits.remove(\"cherry\")\n",
    "print(fruits)  \n",
    "\n",
    "# Using pop\n",
    "fruits.pop(2)\n",
    "print(fruits) \n"
   ]
  },
  {
   "cell_type": "code",
   "execution_count": 7,
   "metadata": {},
   "outputs": [],
   "source": [
    "fruits.clear()"
   ]
  },
  {
   "cell_type": "code",
   "execution_count": 8,
   "metadata": {},
   "outputs": [
    {
     "name": "stdout",
     "output_type": "stream",
     "text": [
      "[]\n"
     ]
    }
   ],
   "source": [
    "print(fruits)"
   ]
  },
  {
   "cell_type": "code",
   "execution_count": null,
   "metadata": {},
   "outputs": [],
   "source": []
  }
 ],
 "metadata": {
  "kernelspec": {
   "display_name": "Python 3",
   "language": "python",
   "name": "python3"
  },
  "language_info": {
   "codemirror_mode": {
    "name": "ipython",
    "version": 3
   },
   "file_extension": ".py",
   "mimetype": "text/x-python",
   "name": "python",
   "nbconvert_exporter": "python",
   "pygments_lexer": "ipython3",
   "version": "3.12.1"
  }
 },
 "nbformat": 4,
 "nbformat_minor": 2
}
