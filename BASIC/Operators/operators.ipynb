{
 "cells": [
  {
   "cell_type": "markdown",
   "metadata": {},
   "source": [
    "## 1- assignment operator (=)"
   ]
  },
  {
   "cell_type": "code",
   "execution_count": 1,
   "metadata": {},
   "outputs": [
    {
     "name": "stdout",
     "output_type": "stream",
     "text": [
      "5\n",
      "6\n"
     ]
    }
   ],
   "source": [
    "# assigning the values to variables name, age and city by using  (=) operator\n",
    "\n",
    "name = \"anees\"\n",
    "age = 21\n",
    "city = \"RWP\"\n",
    "\n",
    "# we can use arithmatic operators with assignment operator\n",
    "\n",
    "num = 4\n",
    "num = num +  1 # can be written as num += 1\n",
    "print(num)\n",
    "num+=1\n",
    "print(num)"
   ]
  },
  {
   "cell_type": "markdown",
   "metadata": {},
   "source": [
    "## 2-Arithmatic operators (+, - , * , /)"
   ]
  },
  {
   "cell_type": "code",
   "execution_count": 2,
   "metadata": {},
   "outputs": [
    {
     "name": "stdout",
     "output_type": "stream",
     "text": [
      "4\n",
      "0\n",
      "4\n",
      "2.5\n"
     ]
    }
   ],
   "source": [
    "print(2+2)\n",
    "print(2-2)\n",
    "print(2*2) \n",
    "print(5/2) # will return quotient with decimal value  (2.5)"
   ]
  },
  {
   "cell_type": "markdown",
   "metadata": {},
   "source": [
    "## 3-modulo operator (%)"
   ]
  },
  {
   "cell_type": "code",
   "execution_count": 3,
   "metadata": {},
   "outputs": [
    {
     "name": "stdout",
     "output_type": "stream",
     "text": [
      "1\n"
     ]
    }
   ],
   "source": [
    "print(5%2) # will return the remainder value"
   ]
  },
  {
   "cell_type": "markdown",
   "metadata": {},
   "source": [
    "## 4-integer division (//)"
   ]
  },
  {
   "cell_type": "code",
   "execution_count": 4,
   "metadata": {},
   "outputs": [
    {
     "name": "stdout",
     "output_type": "stream",
     "text": [
      "2\n"
     ]
    }
   ],
   "source": [
    "\n",
    "print(5 // 2) # will return quotient without decimal value --(2)"
   ]
  },
  {
   "cell_type": "markdown",
   "metadata": {},
   "source": [
    "## Operator precedence ( * , / , // , % , + , - )"
   ]
  },
  {
   "cell_type": "code",
   "execution_count": 5,
   "metadata": {},
   "outputs": [
    {
     "name": "stdout",
     "output_type": "stream",
     "text": [
      "3\n"
     ]
    }
   ],
   "source": [
    "\n",
    "print(3*2//2-8%2)"
   ]
  },
  {
   "cell_type": "markdown",
   "metadata": {},
   "source": [
    "### step by step solution for the above expression\n",
    "\n",
    "3 * 2 // 2 - 8 % 2\n",
    "\n",
    "- step 1 (*) operator apply\n",
    "\n",
    "6 // 2 - 8 % 2\n",
    "\n",
    "- step 2 (//) operator apply\n",
    "\n",
    "3 - 8 % 2\n",
    "\n",
    "- step 3 (%) operator apply\n",
    "\n",
    "3 - 0\n",
    "\n",
    "- step 4 (-) operator apply\n",
    "\n",
    "3"
   ]
  },
  {
   "cell_type": "markdown",
   "metadata": {},
   "source": [
    "## 5 Bitwise Operators in Python\n",
    "\n",
    "Bitwise operators allow you to manipulate individual bits of integers. These operators are commonly used in low-level programming, especially when dealing with hardware-level data or optimizing performance in certain algorithms.\n",
    "\n",
    "### Common Bitwise Operators\n",
    "\n",
    "Here are the most common bitwise operators in Python:\n",
    "\n",
    "- **Bitwise AND (`&`)**\n",
    "- **Bitwise OR (`|`)**\n",
    "- **Bitwise XOR (`^`)**\n",
    "- **Bitwise NOT (`~`)**\n",
    "- **Bitwise Left Shift (`<<`)**\n",
    "- **Bitwise Right Shift (`>>`)**"
   ]
  },
  {
   "cell_type": "markdown",
   "metadata": {},
   "source": [
    "1. **Bitwise AND (&)**\n",
    "The & operator compares each bit of two numbers and returns 1 if both bits are 1; otherwise, it returns 0."
   ]
  },
  {
   "cell_type": "code",
   "execution_count": 6,
   "metadata": {},
   "outputs": [
    {
     "name": "stdout",
     "output_type": "stream",
     "text": [
      "Bitwise AND of 5 & 7 is = 5\n"
     ]
    }
   ],
   "source": [
    "# Example of Bitwise AND\n",
    "\n",
    "a = 5  # in binary: 0101\n",
    "b = 7  # in binary: 0111\n",
    "\n",
    "result = a & b\n",
    "print(f\"Bitwise AND of {a} & {b} is = {result}\")  # Output: 0\n",
    "\n",
    "\n",
    "# solution\n",
    "\n",
    "# 5  ===> 0 1 0 1\n",
    "# 7  ===> 0 1 1 1\n",
    "# ----------------\n",
    "# 5  ===> 0 1 0 1\n",
    "\n"
   ]
  },
  {
   "cell_type": "markdown",
   "metadata": {},
   "source": [
    "1. **Bitwise OR (|)**  returns 1 if at least one of the bits is 1; otherwise, it returns 0."
   ]
  },
  {
   "cell_type": "code",
   "execution_count": 7,
   "metadata": {},
   "outputs": [
    {
     "name": "stdout",
     "output_type": "stream",
     "text": [
      "Bitwise OR of 5 | 7 is = 7\n"
     ]
    }
   ],
   "source": [
    "# Example of Bitwise AND\n",
    "\n",
    "a = 5  # in binary: 0101\n",
    "b = 7  # in binary: 0111\n",
    "\n",
    "result = a | b\n",
    "print(f\"Bitwise OR of {a} | {b} is = {result}\")  # Output: 0\n",
    "\n",
    "\n",
    "# solution\n",
    "\n",
    "# 5  ===> 0 1 0 1\n",
    "# 7  ===> 0 1 1 1\n",
    "# ----------------\n",
    "# 7  ===> 0 1 1 1\n",
    "\n"
   ]
  },
  {
   "cell_type": "markdown",
   "metadata": {},
   "source": [
    "3. **Bitwise XOR (^)** returns 1 if the bits are different, and 0 if they are the same."
   ]
  },
  {
   "cell_type": "code",
   "execution_count": 8,
   "metadata": {},
   "outputs": [
    {
     "name": "stdout",
     "output_type": "stream",
     "text": [
      "Bitwise XOR of 5 ^ 7 is = 2\n"
     ]
    }
   ],
   "source": [
    "# Example of Bitwise AND\n",
    "\n",
    "a = 5  # in binary: 0101\n",
    "b = 7  # in binary: 0111\n",
    "\n",
    "result = a ^ b\n",
    "print(f\"Bitwise XOR of {a} ^ {b} is = {result}\")  # Output: 0\n",
    "\n",
    "\n",
    "# solution\n",
    "\n",
    "# 5  ===> 0 1 0 1\n",
    "# 7  ===> 0 1 1 1\n",
    "# ----------------\n",
    "# 2  ===> 0 0 1 0\n",
    "\n"
   ]
  },
  {
   "cell_type": "markdown",
   "metadata": {},
   "source": [
    "4. **Bitwise NOT (~)** will converrt 1s into 0s and 0s into 1s. In Python.  using this formula -(n + 1)"
   ]
  },
  {
   "cell_type": "code",
   "execution_count": 9,
   "metadata": {},
   "outputs": [
    {
     "name": "stdout",
     "output_type": "stream",
     "text": [
      "Bitwise NOT of 10 is -11\n"
     ]
    }
   ],
   "source": [
    "# Example of Bitwise NOT\n",
    "a = 10  # in binary: 1010\n",
    "\n",
    "result = ~a\n",
    "print(f\"Bitwise NOT of {a} is {result}\")  # Output: -11\n"
   ]
  },
  {
   "cell_type": "markdown",
   "metadata": {},
   "source": [
    "5. **Bitwise Left Shift (<<)**  Each left shift operation multiplies the number by 2."
   ]
  },
  {
   "cell_type": "code",
   "execution_count": 10,
   "metadata": {},
   "outputs": [
    {
     "name": "stdout",
     "output_type": "stream",
     "text": [
      "Bitwise Left Shift of 10 by 2 positions is  = 40\n",
      "Bitwise Left Shift of 10 by 2 positions is  = 160\n"
     ]
    }
   ],
   "source": [
    "# Example of Bitwise Left Shift\n",
    "a = 10  # in binary: 1010\n",
    "\n",
    "result = a << 2\n",
    "print(f\"Bitwise Left Shift of {a} by 2 positions is  = {result}\")  # Output: 40\n",
    "\n",
    "result = a << 4\n",
    "print(f\"Bitwise Left Shift of {a} by 2 positions is  = {result}\")  # Output: 160\n"
   ]
  },
  {
   "cell_type": "markdown",
   "metadata": {},
   "source": [
    "6. **Bitwise Right Shift (>>)** Each right shift operation divides the number by 2."
   ]
  },
  {
   "cell_type": "code",
   "execution_count": 11,
   "metadata": {},
   "outputs": [
    {
     "name": "stdout",
     "output_type": "stream",
     "text": [
      "Bitwise Right Shift of 10 by 2 positions is 5\n",
      "Bitwise Right Shift of 10 by 2 positions is 2\n"
     ]
    }
   ],
   "source": [
    "# Example of Bitwise Right Shift\n",
    "a = 10  # in binary: 1010\n",
    "\n",
    "result = a >> 1\n",
    "print(f\"Bitwise Right Shift of {a} by 2 positions is {result}\")  # Output: 5\n",
    "result = a >> 2\n",
    "print(f\"Bitwise Right Shift of {a} by 2 positions is {result}\")  # Output: 2\n"
   ]
  }
 ],
 "metadata": {
  "kernelspec": {
   "display_name": "Python 3",
   "language": "python",
   "name": "python3"
  },
  "language_info": {
   "codemirror_mode": {
    "name": "ipython",
    "version": 3
   },
   "file_extension": ".py",
   "mimetype": "text/x-python",
   "name": "python",
   "nbconvert_exporter": "python",
   "pygments_lexer": "ipython3",
   "version": "3.12.1"
  }
 },
 "nbformat": 4,
 "nbformat_minor": 2
}
