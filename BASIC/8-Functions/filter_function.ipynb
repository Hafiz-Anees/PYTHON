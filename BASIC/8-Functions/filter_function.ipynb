{
 "cells": [
  {
   "cell_type": "markdown",
   "metadata": {},
   "source": [
    "it is also built in function\n",
    "\n",
    "```\n",
    "filter(function,iterable)\n",
    "\n",
    "```"
   ]
  },
  {
   "cell_type": "code",
   "execution_count": 4,
   "metadata": {},
   "outputs": [
    {
     "name": "stdout",
     "output_type": "stream",
     "text": [
      "[1, 3, 5]\n"
     ]
    }
   ],
   "source": [
    "# Define a function to square a number\n",
    "def is_odd(x):\n",
    "    return x % 2 == 1\n",
    "\n",
    "# Create a list of numbers\n",
    "numbers = [1, 2, 3, 4, 5]\n",
    "\n",
    "# Use map to apply the is_odd function to each number in the list\n",
    "squared_numbers = filter(is_odd, numbers)\n",
    "\n",
    "# Convert the filter object to a list and print the result\n",
    "print(list(squared_numbers))"
   ]
  },
  {
   "cell_type": "code",
   "execution_count": 12,
   "metadata": {},
   "outputs": [
    {
     "name": "stdout",
     "output_type": "stream",
     "text": [
      "[1, 'Hello', [1, 2, 3], 1, 10]\n"
     ]
    }
   ],
   "source": [
    "# Create a list with various values\n",
    "values = [0, 0 , 1, '', 'Hello', None, [], [1, 2, 3],1,10]\n",
    "\n",
    "# Use filter to remove falsy values\n",
    "\n",
    "truthy_values = filter(None, values)\n",
    "print(list(truthy_values))"
   ]
  },
  {
   "cell_type": "code",
   "execution_count": null,
   "metadata": {},
   "outputs": [],
   "source": []
  }
 ],
 "metadata": {
  "kernelspec": {
   "display_name": "Python 3",
   "language": "python",
   "name": "python3"
  },
  "language_info": {
   "codemirror_mode": {
    "name": "ipython",
    "version": 3
   },
   "file_extension": ".py",
   "mimetype": "text/x-python",
   "name": "python",
   "nbconvert_exporter": "python",
   "pygments_lexer": "ipython3",
   "version": "3.12.1"
  }
 },
 "nbformat": 4,
 "nbformat_minor": 2
}
