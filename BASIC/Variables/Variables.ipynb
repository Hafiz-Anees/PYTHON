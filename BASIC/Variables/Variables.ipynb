{
 "cells": [
  {
   "cell_type": "markdown",
   "metadata": {},
   "source": [
    "#### Variables in Python\n",
    "\n",
    "Variables are temporary storage spaces used to hold data values, which can change throughout the execution of a program.\n",
    "\n",
    "- **Naming Rules**:\n",
    "  - Must start with a **letter** or an **underscore (_)**:\n",
    "    ```python\n",
    "    my_variable = 10\n",
    "    _variable = \"test\"\n",
    "    ```\n",
    "  - Cannot start with a **number**:\n",
    "    ```python\n",
    "    1_variable = 10  # ❌ Invalid!\n",
    "    ```\n",
    "  - Can only contain **alphanumeric characters** and **underscores** (A-Z, a-z, 0-9, _):\n",
    "    ```python\n",
    "    Num_1 = 5  # ✔ Valid!\n",
    "    ```\n",
    "  - Variable names are **case-sensitive**:\n",
    "    ```python\n",
    "    age = 20\n",
    "    Age = 30\n",
    "    AGE = 40\n",
    "    # All are different variables!\n",
    "    ```\n",
    "\n",
    "- A variable name **cannot** be any of the [Python Keywords](https://www.w3schools.com/python/python_ref_keywords.asp).\n",
    "\n",
    "> **Remember:** Variables are the building blocks of any program. Choose meaningful names that reflect their purpose!\n",
    "\n"
   ]
  },
  {
   "cell_type": "markdown",
   "metadata": {},
   "source": [
    "### 1-Assigning Values to Variables"
   ]
  },
  {
   "cell_type": "code",
   "execution_count": 3,
   "metadata": {},
   "outputs": [
    {
     "name": "stdout",
     "output_type": "stream",
     "text": [
      "Anees Ur rehman\n",
      "22\n",
      "5.6\n",
      "True\n"
     ]
    }
   ],
   "source": [
    "\n",
    "# Assigning a string to a variable\n",
    "name = \"Anees Ur rehman\"\n",
    "print(name) \n",
    "\n",
    "# Assigning an integer to a variable\n",
    "x = 22\n",
    "print(x)  \n",
    "\n",
    "# Assigning a float to a variable\n",
    "height = 5.6\n",
    "print(height) \n",
    "\n",
    "# Assigning a boolean value\n",
    "is_student = True\n",
    "print(is_student) \n"
   ]
  },
  {
   "cell_type": "code",
   "execution_count": 4,
   "metadata": {},
   "outputs": [
    {
     "name": "stdout",
     "output_type": "stream",
     "text": [
      "anees\n",
      "22\n",
      "Anees@gmail.com\n"
     ]
    }
   ],
   "source": [
    "# Many Values to Multiple Variables\n",
    "\n",
    "name , age , email = \"anees\" , 22 , \"Anees@gmail.com\"\n",
    "\n",
    "print(name)\n",
    "print(age)\n",
    "print(email)"
   ]
  },
  {
   "cell_type": "code",
   "execution_count": 5,
   "metadata": {},
   "outputs": [
    {
     "name": "stdout",
     "output_type": "stream",
     "text": [
      "cricket\n",
      "Hockey\n",
      "Tennis\n"
     ]
    }
   ],
   "source": [
    "# Unpack a Collection\n",
    "\n",
    "Games = ['cricket','Hockey','Tennis']\n",
    "\n",
    "c , h , t = Games\n",
    "\n",
    "print(c)\n",
    "print(h)\n",
    "print(t)"
   ]
  },
  {
   "cell_type": "markdown",
   "metadata": {},
   "source": [
    "### Local Vs Global Variable"
   ]
  },
  {
   "cell_type": "code",
   "execution_count": 7,
   "metadata": {},
   "outputs": [
    {
     "name": "stdout",
     "output_type": "stream",
     "text": [
      "Python is fantastic\n",
      "Python is awesome\n"
     ]
    }
   ],
   "source": [
    "x = \"awesome\" # global variable\n",
    "\n",
    "def myfunc():\n",
    "  x = \"fantastic\"  # local Variable\n",
    "  print(\"Python is \" + x)\n",
    "\n",
    "myfunc()\n",
    "\n",
    "print(\"Python is \" + x)"
   ]
  },
  {
   "cell_type": "code",
   "execution_count": 8,
   "metadata": {},
   "outputs": [
    {
     "name": "stdout",
     "output_type": "stream",
     "text": [
      "Python is fantastic\n"
     ]
    }
   ],
   "source": [
    "x = \"awesome\"\n",
    "\n",
    "def myfunc():\n",
    "  global x\n",
    "  x = \"fantastic\"\n",
    "\n",
    "myfunc()\n",
    "\n",
    "print(\"Python is \" + x)"
   ]
  },
  {
   "cell_type": "code",
   "execution_count": null,
   "metadata": {},
   "outputs": [],
   "source": []
  }
 ],
 "metadata": {
  "kernelspec": {
   "display_name": "Python 3",
   "language": "python",
   "name": "python3"
  },
  "language_info": {
   "codemirror_mode": {
    "name": "ipython",
    "version": 3
   },
   "file_extension": ".py",
   "mimetype": "text/x-python",
   "name": "python",
   "nbconvert_exporter": "python",
   "pygments_lexer": "ipython3",
   "version": "3.12.1"
  }
 },
 "nbformat": 4,
 "nbformat_minor": 2
}
