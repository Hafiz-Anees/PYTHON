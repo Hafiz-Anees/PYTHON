{
 "cells": [
  {
   "cell_type": "markdown",
   "metadata": {},
   "source": [
    "## Iterative Statements in Programming\n",
    "\n",
    "An iterative statement, also known as a loop, allows a set of instructions to be repeated multiple times until a specific condition is met. \n",
    "We use iterative statements in programming to handle repetitive tasks without having to write the same code multiple times. \n",
    "\n",
    "## Types of Iterative Statements\n",
    "\n",
    "Python has two primary types of loops:\n",
    "\n",
    "- **for loop**: Used when the number of iterations is known or can be determined.\n",
    "- **while loop**: Used when the number of iterations depends on a condition.\n",
    "\n",
    "## Why Use Iterative Statements?\n",
    "\n",
    "Iterative statements help:\n",
    "\n",
    "- **Automate repetitive tasks**: Avoid writing code multiple times.\n",
    "- **Simplify logic**: Improve code readability and maintainability.\n",
    "- **Handle large datasets**: Useful for processing data collections, like lists or files."
   ]
  },
  {
   "cell_type": "markdown",
   "metadata": {},
   "source": [
    "#### syntax of for loop\n",
    "\n",
    "```python\n",
    "\n",
    "for variable in range(starting_value,ending_value,step(increment/decremnt)):\n",
    "    statement\n",
    "\n",
    "```\n",
    "\n",
    "loop start from the starting value and end when value of variable will become one less than ending_value"
   ]
  },
  {
   "cell_type": "markdown",
   "metadata": {},
   "source": [
    "#### Examples"
   ]
  },
  {
   "cell_type": "code",
   "execution_count": 10,
   "metadata": {},
   "outputs": [
    {
     "name": "stdout",
     "output_type": "stream",
     "text": [
      "0 1 2 3 4 5 6 7 8 9 "
     ]
    }
   ],
   "source": [
    "# staring value = 0\n",
    "# ending value = 10\n",
    "# increment value = 1\n",
    "\n",
    "for i in range(0,10,1):\n",
    "    print(i,end=\" \")"
   ]
  },
  {
   "cell_type": "code",
   "execution_count": 11,
   "metadata": {},
   "outputs": [
    {
     "name": "stdout",
     "output_type": "stream",
     "text": [
      "10 12 14 16 18 20 "
     ]
    }
   ],
   "source": [
    "# staring value = 10\n",
    "# ending value = 21\n",
    "# increment value = 2\n",
    "for i in range(10,21,2):\n",
    "    print(i,end=\" \")"
   ]
  },
  {
   "cell_type": "code",
   "execution_count": 12,
   "metadata": {},
   "outputs": [
    {
     "name": "stdout",
     "output_type": "stream",
     "text": [
      "20 15 10 5 0 "
     ]
    }
   ],
   "source": [
    "# staring value = 20\n",
    "# ending value = -1\n",
    "# decrement value = -5\n",
    "for i in range(20,-1,-5):\n",
    "    print(i,end=\" \")"
   ]
  },
  {
   "cell_type": "markdown",
   "metadata": {},
   "source": [
    "#### Syntax for while loop\n",
    "\n",
    "```python\n",
    "\n",
    "variable =  starting_value\n",
    "\n",
    "while(condtion):\n",
    "    statements\n",
    "    increment/decrement varibale value"
   ]
  },
  {
   "cell_type": "code",
   "execution_count": 14,
   "metadata": {},
   "outputs": [
    {
     "name": "stdout",
     "output_type": "stream",
     "text": [
      "0 1 2 3 4 5 6 7 8 9 10 "
     ]
    }
   ],
   "source": [
    "i = 0\n",
    "\n",
    "while(i<=10):\n",
    "    print(i,end=\" \")\n",
    "    i = i + 1"
   ]
  },
  {
   "cell_type": "markdown",
   "metadata": {},
   "source": [
    "## Nested Loops\n",
    "\n",
    "- You can use loops inside loops, known as nested loops."
   ]
  },
  {
   "cell_type": "code",
   "execution_count": 20,
   "metadata": {},
   "outputs": [
    {
     "name": "stdout",
     "output_type": "stream",
     "text": [
      "1 2 3 \n",
      "1 2 3 \n",
      "1 2 3 \n"
     ]
    }
   ],
   "source": [
    "\n",
    "for i in range(1, 4):\n",
    "    for j in range(1, 4):\n",
    "        print(j,end=\" \")\n",
    "    print()\n"
   ]
  },
  {
   "cell_type": "markdown",
   "metadata": {},
   "source": [
    "- we can use for loop inside while loop and vice versa"
   ]
  },
  {
   "cell_type": "code",
   "execution_count": 22,
   "metadata": {},
   "outputs": [
    {
     "name": "stdout",
     "output_type": "stream",
     "text": [
      "1 2 3 \n",
      "1 2 3 \n",
      "1 2 3 \n"
     ]
    }
   ],
   "source": [
    "i = 1\n",
    "\n",
    "while i<4:\n",
    "    for j in range(1, 4):\n",
    "        print(j,end=\" \")\n",
    "    print()\n",
    "    i = i + 1\n"
   ]
  },
  {
   "cell_type": "code",
   "execution_count": null,
   "metadata": {},
   "outputs": [],
   "source": []
  }
 ],
 "metadata": {
  "kernelspec": {
   "display_name": "Python 3",
   "language": "python",
   "name": "python3"
  },
  "language_info": {
   "codemirror_mode": {
    "name": "ipython",
    "version": 3
   },
   "file_extension": ".py",
   "mimetype": "text/x-python",
   "name": "python",
   "nbconvert_exporter": "python",
   "pygments_lexer": "ipython3",
   "version": "3.12.1"
  }
 },
 "nbformat": 4,
 "nbformat_minor": 2
}
