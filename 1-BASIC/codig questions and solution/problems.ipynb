{
 "cells": [
  {
   "cell_type": "markdown",
   "id": "795a02d5",
   "metadata": {},
   "source": [
    "# 1- Leap year\n",
    "\n",
    "Write a program that takes a year as input from the user and checks if it's a leap year or not. A year is a leap year if:\n",
    "\n",
    "- It is divisible by 4, but not divisible by 100, or\n",
    "- It is divisible by 400.\n",
    "\n",
    "```\n",
    "\n",
    "Input: 2024\n",
    "Output: 2024 is a leap year.\n",
    "\n",
    "```"
   ]
  },
  {
   "cell_type": "markdown",
   "id": "11645add",
   "metadata": {},
   "source": [
    "### <h1 style=\"background:white;color:black\"> SOLUTION </H1>"
   ]
  },
  {
   "cell_type": "code",
   "execution_count": null,
   "id": "696c747f",
   "metadata": {},
   "outputs": [
    {
     "name": "stdout",
     "output_type": "stream",
     "text": [
      "it is leap year\n"
     ]
    }
   ],
   "source": [
    "# solution\n",
    "\n",
    "year = int(input(\"Enter a year to check wheather it is leap year or not:\"))\n",
    "\n",
    "if ((year % 4 == 0) and (year % 100 !=0)) or (year % 400 == 0):\n",
    "    print(\"it is leap year\")\n",
    "else:\n",
    "    print(\"it is not a leap year\")"
   ]
  },
  {
   "cell_type": "markdown",
   "id": "ae413e73",
   "metadata": {},
   "source": [
    "# 2. **Grade Categorizer**\n",
    "\n",
    "Write a program that asks the user for a percentage score (0-100) and categorizes it into letter grades based on the following conditions:\n",
    "\n",
    "* 90-100: A\n",
    "* 80-89: B\n",
    "* 70-79: C\n",
    "* 60-69: D\n",
    "* Below 60: F\n",
    "\n",
    "```\n",
    "\n",
    "Input: 85\n",
    "Output: Your grade is B.\n",
    "\n",
    "```"
   ]
  },
  {
   "cell_type": "markdown",
   "id": "f5c2d6a7",
   "metadata": {},
   "source": [
    "### <h1 style=\"background:white;color:black\"> SOLUTION </H1>"
   ]
  },
  {
   "cell_type": "code",
   "execution_count": null,
   "id": "97b54c52",
   "metadata": {},
   "outputs": [
    {
     "name": "stdout",
     "output_type": "stream",
     "text": [
      "A\n"
     ]
    }
   ],
   "source": [
    "marks = int(input(\"Enter your marks\"))\n",
    "\n",
    "if marks >= 90 and marks <= 100:\n",
    "    print(\"A\")\n",
    "elif marks >= 80 and marks < 89:\n",
    "    print(\"B\")\n",
    "elif marks >= 70 and marks < 79:\n",
    "    print(\"C\")\n",
    "elif marks >= 60 and marks < 69:\n",
    "    print(\"D\")\n",
    "elif marks >= 50 and marks < 59:\n",
    "    print(\"E\")\n",
    "elif marks >= 0 and marks < 49:\n",
    "    print(\"F\")\n",
    "else:\n",
    "    print(\"enter marks in range (0-100)\")\n"
   ]
  },
  {
   "cell_type": "code",
   "execution_count": null,
   "id": "0a16a2b6",
   "metadata": {},
   "outputs": [],
   "source": []
  }
 ],
 "metadata": {
  "kernelspec": {
   "display_name": "ml_env",
   "language": "python",
   "name": "python3"
  },
  "language_info": {
   "codemirror_mode": {
    "name": "ipython",
    "version": 3
   },
   "file_extension": ".py",
   "mimetype": "text/x-python",
   "name": "python",
   "nbconvert_exporter": "python",
   "pygments_lexer": "ipython3",
   "version": "3.13.4"
  }
 },
 "nbformat": 4,
 "nbformat_minor": 5
}
