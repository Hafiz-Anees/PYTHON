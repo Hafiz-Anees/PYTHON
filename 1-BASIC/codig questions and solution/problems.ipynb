{
 "cells": [
  {
   "cell_type": "markdown",
   "id": "795a02d5",
   "metadata": {},
   "source": [
    "# 1- Leap year\n",
    "\n",
    "Write a program that takes a year as input from the user and checks if it's a leap year or not. A year is a leap year if:\n",
    "\n",
    "- It is divisible by 4, but not divisible by 100, or\n",
    "- It is divisible by 400.\n",
    "\n",
    "```\n",
    "\n",
    "Input: 2024\n",
    "Output: 2024 is a leap year.\n",
    "\n",
    "```"
   ]
  },
  {
   "cell_type": "code",
   "execution_count": null,
   "id": "696c747f",
   "metadata": {},
   "outputs": [
    {
     "name": "stdout",
     "output_type": "stream",
     "text": [
      "it is leap year\n"
     ]
    }
   ],
   "source": [
    "# solution\n",
    "\n",
    "year = int(input(\"Enter a year to check wheather it is leap year or not:\"))\n",
    "\n",
    "if ((year % 4 == 0) and (year % 100 !=0)) or (year % 400 == 0):\n",
    "    print(\"it is leap year\")\n",
    "else:\n",
    "    print(\"it is not a leap year\")"
   ]
  },
  {
   "cell_type": "code",
   "execution_count": null,
   "id": "97b54c52",
   "metadata": {},
   "outputs": [],
   "source": []
  }
 ],
 "metadata": {
  "kernelspec": {
   "display_name": "ml_env",
   "language": "python",
   "name": "python3"
  },
  "language_info": {
   "codemirror_mode": {
    "name": "ipython",
    "version": 3
   },
   "file_extension": ".py",
   "mimetype": "text/x-python",
   "name": "python",
   "nbconvert_exporter": "python",
   "pygments_lexer": "ipython3",
   "version": "3.13.4"
  }
 },
 "nbformat": 4,
 "nbformat_minor": 5
}
