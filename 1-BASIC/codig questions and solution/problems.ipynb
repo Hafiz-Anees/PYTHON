{
 "cells": [
  {
   "cell_type": "markdown",
   "id": "ac8daa31",
   "metadata": {},
   "source": [
    "# <h1 style=\"text-align:center;text-transform:uppercase;background:green\"> 1-conditional statement </h1>"
   ]
  },
  {
   "cell_type": "markdown",
   "id": "795a02d5",
   "metadata": {},
   "source": [
    "# 1- Leap year\n",
    "\n",
    "Write a program that takes a year as input from the user and checks if it's a leap year or not. A year is a leap year if:\n",
    "\n",
    "- It is divisible by 4, but not divisible by 100, or\n",
    "- It is divisible by 400.\n",
    "\n",
    "```\n",
    "\n",
    "Input: 2024\n",
    "Output: 2024 is a leap year.\n",
    "\n",
    "```"
   ]
  },
  {
   "cell_type": "markdown",
   "id": "11645add",
   "metadata": {},
   "source": [
    "### <h1 style=\"background:white;color:black\"> SOLUTION </H1>"
   ]
  },
  {
   "cell_type": "code",
   "execution_count": null,
   "id": "696c747f",
   "metadata": {},
   "outputs": [
    {
     "name": "stdout",
     "output_type": "stream",
     "text": [
      "it is leap year\n"
     ]
    }
   ],
   "source": [
    "# solution\n",
    "\n",
    "year = int(input(\"Enter a year to check wheather it is leap year or not:\"))\n",
    "\n",
    "if ((year % 4 == 0) and (year % 100 !=0)) or (year % 400 == 0):\n",
    "    print(\"it is leap year\")\n",
    "else:\n",
    "    print(\"it is not a leap year\")"
   ]
  },
  {
   "cell_type": "markdown",
   "id": "ae413e73",
   "metadata": {},
   "source": [
    "# 2. **Grade Categorizer**\n",
    "\n",
    "Write a program that asks the user for a percentage score (0-100) and categorizes it into letter grades based on the following conditions:\n",
    "\n",
    "* 90-100: A\n",
    "* 80-89: B\n",
    "* 70-79: C\n",
    "* 60-69: D\n",
    "* Below 60: F\n",
    "\n",
    "```\n",
    "\n",
    "Input: 85\n",
    "Output: Your grade is B.\n",
    "\n",
    "```"
   ]
  },
  {
   "cell_type": "markdown",
   "id": "f5c2d6a7",
   "metadata": {},
   "source": [
    "### <h1 style=\"background:white;color:black\"> SOLUTION </H1>"
   ]
  },
  {
   "cell_type": "code",
   "execution_count": null,
   "id": "97b54c52",
   "metadata": {},
   "outputs": [
    {
     "name": "stdout",
     "output_type": "stream",
     "text": [
      "A\n"
     ]
    }
   ],
   "source": [
    "marks = int(input(\"Enter your marks\"))\n",
    "\n",
    "if marks >= 90 and marks <= 100:\n",
    "    print(\"A\")\n",
    "elif marks >= 80 and marks < 89:\n",
    "    print(\"B\")\n",
    "elif marks >= 70 and marks < 79:\n",
    "    print(\"C\")\n",
    "elif marks >= 60 and marks < 69:\n",
    "    print(\"D\")\n",
    "elif marks >= 50 and marks < 59:\n",
    "    print(\"E\")\n",
    "elif marks >= 0 and marks < 49:\n",
    "    print(\"F\")\n",
    "else:\n",
    "    print(\"enter marks in range (0-100)\")\n"
   ]
  },
  {
   "cell_type": "markdown",
   "id": "a1a50061",
   "metadata": {},
   "source": [
    "# 3. **Even or Odd Sum Checker**\n",
    "\n",
    "Write a program that accepts three numbers from the user and determines whether the sum of these numbers is even or odd.\n",
    "\n",
    "```\n",
    "Input: 3, 7, 2\n",
    "Output: The sum is 12 and it is even.\n",
    "\n",
    "```"
   ]
  },
  {
   "cell_type": "markdown",
   "id": "842670f1",
   "metadata": {},
   "source": [
    "### <h1 style=\"background:white;color:black\"> SOLUTION </H1>"
   ]
  },
  {
   "cell_type": "code",
   "execution_count": 5,
   "id": "0a16a2b6",
   "metadata": {},
   "outputs": [
    {
     "name": "stdout",
     "output_type": "stream",
     "text": [
      "number are : 3 6 8\n"
     ]
    }
   ],
   "source": [
    "n1 = int(input(\"Enter first number:\"))\n",
    "n2 = int(input(\"Enter second number:\"))\n",
    "n3 = int(input(\"Enter third number:\"))\n",
    "\n",
    "print(f\"number are : {n1} {n2} {n3}\")"
   ]
  },
  {
   "cell_type": "code",
   "execution_count": 7,
   "id": "11fa2318",
   "metadata": {},
   "outputs": [
    {
     "name": "stdout",
     "output_type": "stream",
     "text": [
      "sum of the numbers is odd : 17\n"
     ]
    }
   ],
   "source": [
    "sum = n1 + n2 + n3\n",
    "\n",
    "if sum % 2 == 0:\n",
    "    print(f\"sum of the numbers is even : {sum}\")\n",
    "else:\n",
    "    print(f\"sum of the numbers is odd : {sum}\")"
   ]
  },
  {
   "cell_type": "markdown",
   "id": "91c9a2dd",
   "metadata": {},
   "source": [
    "## 4. **Vowel or Consonant**\n",
    "\n",
    "Write a program that takes a single character as input from the user and checks whether it is a vowel (a, e, i, o, u) or a consonant. If the input is not a letter, the program should return an appropriate message.\n",
    "\n",
    "```\n",
    "Input: a\n",
    "Output: a is a vowel.\n",
    "\n",
    "```"
   ]
  },
  {
   "cell_type": "markdown",
   "id": "9f83c610",
   "metadata": {},
   "source": [
    "### <h1 style=\"background:white;color:black\"> SOLUTION </h1>"
   ]
  },
  {
   "cell_type": "code",
   "execution_count": 11,
   "id": "723a01ee",
   "metadata": {},
   "outputs": [
    {
     "name": "stdout",
     "output_type": "stream",
     "text": [
      "A is vowel\n"
     ]
    }
   ],
   "source": [
    "ch = input(\"Enter a charcater : \").upper()\n",
    "\n",
    "if ch == 'A' or ch == 'E' or ch == 'I' or ch == 'O' or ch == 'U':\n",
    "    print(f\"{ch} is vowel\")\n",
    "else:\n",
    "    print(f\"{ch} is consonent\")"
   ]
  },
  {
   "cell_type": "markdown",
   "id": "0a2cb4ee",
   "metadata": {},
   "source": [
    "# <h1 style=\"text-align:center;text-transform:uppercase;background:green\"> 2-STRING </h1>"
   ]
  },
  {
   "cell_type": "markdown",
   "id": "5c622ce3",
   "metadata": {},
   "source": [
    "## 5- Capitalize Words\n",
    " Capitalize the first letter of each word in a sentence.\n",
    " ```\n",
    " Input: hello world\n",
    " Output: Hello World\n",
    " ```"
   ]
  },
  {
   "cell_type": "markdown",
   "id": "dfb4e17e",
   "metadata": {},
   "source": [
    "### <h1 style=\"background:white;color:black\"> SOLUTION </h1>"
   ]
  },
  {
   "cell_type": "markdown",
   "id": "92512eaf",
   "metadata": {},
   "source": [
    "### 1st way"
   ]
  },
  {
   "cell_type": "code",
   "execution_count": 23,
   "id": "d079d1e9",
   "metadata": {},
   "outputs": [
    {
     "name": "stdout",
     "output_type": "stream",
     "text": [
      " Hello World \n"
     ]
    }
   ],
   "source": [
    "string = \"hello world\"\n",
    "newstring = \" \"\n",
    "for word in string.split():\n",
    "    for i in range(len(word)):\n",
    "        if i == 0:\n",
    "            newstring = newstring + word[i].upper()\n",
    "        else:\n",
    "            newstring = newstring + word[i]\n",
    "    newstring = newstring + \" \"\n",
    "print(newstring)"
   ]
  },
  {
   "cell_type": "markdown",
   "id": "3c2b1092",
   "metadata": {},
   "source": [
    "#### 2nd way"
   ]
  },
  {
   "cell_type": "code",
   "execution_count": 24,
   "id": "95f9d172",
   "metadata": {},
   "outputs": [
    {
     "name": "stdout",
     "output_type": "stream",
     "text": [
      " Hello World \n"
     ]
    }
   ],
   "source": [
    "s = \" \"\n",
    "for word in string.split():\n",
    "    s = s + word.capitalize() + \" \"\n",
    "print(s)"
   ]
  },
  {
   "cell_type": "code",
   "execution_count": null,
   "id": "e92d3306",
   "metadata": {},
   "outputs": [],
   "source": []
  }
 ],
 "metadata": {
  "kernelspec": {
   "display_name": "ml_env",
   "language": "python",
   "name": "python3"
  },
  "language_info": {
   "codemirror_mode": {
    "name": "ipython",
    "version": 3
   },
   "file_extension": ".py",
   "mimetype": "text/x-python",
   "name": "python",
   "nbconvert_exporter": "python",
   "pygments_lexer": "ipython3",
   "version": "3.13.4"
  }
 },
 "nbformat": 4,
 "nbformat_minor": 5
}
