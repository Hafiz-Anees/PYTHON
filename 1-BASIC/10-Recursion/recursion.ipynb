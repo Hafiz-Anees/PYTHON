{
 "cells": [
  {
   "cell_type": "markdown",
   "id": "ba4f33d4",
   "metadata": {},
   "source": [
    "# 🔁 Recursion in Python\n",
    "- Recursion is a programming technique where a function calls itself to solve a smaller instance of the same problem."
   ]
  },
  {
   "cell_type": "markdown",
   "id": "5fd4df79",
   "metadata": {},
   "source": [
    "![](recursion.png)"
   ]
  },
  {
   "cell_type": "code",
   "execution_count": 3,
   "id": "2b91ad19",
   "metadata": {},
   "outputs": [
    {
     "name": "stdout",
     "output_type": "stream",
     "text": [
      "6\n"
     ]
    }
   ],
   "source": [
    "def factorial(n):\n",
    "    if n == 0 or n == 1:       # Base case\n",
    "        return 1\n",
    "    else:\n",
    "        return n * factorial(n - 1)  # Recursive case\n",
    "\n",
    "print(factorial(3))  # Output: 120\n"
   ]
  },
  {
   "cell_type": "code",
   "execution_count": 2,
   "id": "024fbd7d",
   "metadata": {},
   "outputs": [
    {
     "name": "stdout",
     "output_type": "stream",
     "text": [
      "8\n"
     ]
    }
   ],
   "source": [
    "def fibonacci(n):\n",
    "    if n == 0:\n",
    "        return 0\n",
    "    elif n == 1:\n",
    "        return 1\n",
    "    else:\n",
    "        return fibonacci(n-1) + fibonacci(n-2)\n",
    "\n",
    "print(fibonacci(6))  # Output: 8\n"
   ]
  },
  {
   "cell_type": "code",
   "execution_count": null,
   "id": "f8669941",
   "metadata": {},
   "outputs": [],
   "source": []
  }
 ],
 "metadata": {
  "kernelspec": {
   "display_name": "p_env",
   "language": "python",
   "name": "python3"
  },
  "language_info": {
   "codemirror_mode": {
    "name": "ipython",
    "version": 3
   },
   "file_extension": ".py",
   "mimetype": "text/x-python",
   "name": "python",
   "nbconvert_exporter": "python",
   "pygments_lexer": "ipython3",
   "version": "3.13.4"
  }
 },
 "nbformat": 4,
 "nbformat_minor": 5
}
