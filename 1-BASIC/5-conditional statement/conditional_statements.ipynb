{
 "cells": [
  {
   "cell_type": "markdown",
   "metadata": {},
   "source": [
    "### Conditional statement\n",
    "In Python, a conditional statement is used to execute code based on whether a certain condition is true or false. The most common conditional statements in Python are `if`, `elif` (else if), and `else`.\n",
    "\n",
    "#### Key Conditional Statements:\n",
    "\n",
    "- **if statement**: Executes a block of code if the condition evaluates to `True`.\n",
    "- **elif statement**: Allows for additional conditions if the first condition (`if`) is `False`. You can have multiple `elif` statements.\n",
    "- **else statement**: Executes a block of code if none of the above conditions are `True`.\n",
    "\n",
    "#### Syntax:\n",
    "\n",
    "```python\n",
    "if condition:\n",
    "    # Block of code to execute if the condition is True\n",
    "elif another_condition:\n",
    "    # Block of code to execute if the previous condition is False, but this condition is True\n",
    "else:\n",
    "    # Block of code to execute if all the conditions are False"
   ]
  },
  {
   "cell_type": "markdown",
   "metadata": {},
   "source": [
    "- if"
   ]
  },
  {
   "cell_type": "code",
   "execution_count": 1,
   "metadata": {},
   "outputs": [
    {
     "name": "stdout",
     "output_type": "stream",
     "text": [
      "x is greater than 5\n"
     ]
    }
   ],
   "source": [
    "x = 10\n",
    "if x > 5:\n",
    "    print(\"x is greater than 5\")\n"
   ]
  },
  {
   "cell_type": "markdown",
   "metadata": {},
   "source": [
    "- if-else"
   ]
  },
  {
   "cell_type": "code",
   "execution_count": 2,
   "metadata": {},
   "outputs": [
    {
     "name": "stdout",
     "output_type": "stream",
     "text": [
      "x is less than 5\n"
     ]
    }
   ],
   "source": [
    "x = 3\n",
    "\n",
    "if x > 5:\n",
    "    print(\"x is greater than 5\")\n",
    "else:\n",
    "    print(\"x is less than 5\")\n"
   ]
  },
  {
   "cell_type": "markdown",
   "metadata": {},
   "source": [
    "- if-elif-else"
   ]
  },
  {
   "cell_type": "code",
   "execution_count": 3,
   "metadata": {},
   "outputs": [
    {
     "name": "stdout",
     "output_type": "stream",
     "text": [
      "x is equal to 10\n"
     ]
    }
   ],
   "source": [
    "x = 10\n",
    "\n",
    "if x < 5:\n",
    "    print(\"x is less than 5\")\n",
    "elif x == 10:\n",
    "    print(\"x is equal to 10\")\n",
    "else:\n",
    "    print(\"x is greater than 10\")\n"
   ]
  },
  {
   "cell_type": "markdown",
   "metadata": {},
   "source": [
    "### Nested if statements\n",
    "\n",
    "- when we use if statement inside the another if statement then it is called nested if statement"
   ]
  },
  {
   "cell_type": "code",
   "execution_count": 1,
   "metadata": {},
   "outputs": [
    {
     "name": "stdout",
     "output_type": "stream",
     "text": [
      "x is greater than 5 and y is greater than 15\n"
     ]
    }
   ],
   "source": [
    "x = 10\n",
    "y = 20\n",
    "\n",
    "if x > 5:\n",
    "    \n",
    "    if y > 15:\n",
    "        print(\"x is greater than 5 and y is greater than 15\")\n",
    "    else:\n",
    "        print(\"x is greater than 5 but y is not greater than 15\")\n"
   ]
  },
  {
   "cell_type": "markdown",
   "metadata": {},
   "source": [
    "# <h1 style=\"background-color:red\"> Practice Questions <h1>"
   ]
  },
  {
   "cell_type": "markdown",
   "metadata": {},
   "source": [
    "### 1 - Check if Character is Alphabet, Digit or Special Character"
   ]
  },
  {
   "cell_type": "code",
   "execution_count": 20,
   "metadata": {},
   "outputs": [
    {
     "name": "stdout",
     "output_type": "stream",
     "text": [
      "Enter just 1 character\n"
     ]
    }
   ],
   "source": [
    "char = input(\"Enter a character:\")\n",
    "\n",
    "if len(char) == 1:\n",
    "    if char.isalpha():\n",
    "        print(f\"{char} is alphabet\")\n",
    "    elif char.isdigit():\n",
    "        print(f\"{char} is digit\")\n",
    "    else:\n",
    "        print(f\"{char} is special charcater\")\n",
    "else:\n",
    "    print(\"Enter just 1 character\")"
   ]
  },
  {
   "cell_type": "markdown",
   "metadata": {},
   "source": [
    "### 2- write a code to check a number is perfect square or not"
   ]
  },
  {
   "cell_type": "code",
   "execution_count": null,
   "metadata": {},
   "outputs": [
    {
     "name": "stdout",
     "output_type": "stream",
     "text": [
      "56 is not perfect square\n"
     ]
    }
   ],
   "source": [
    "import math\n",
    "\n",
    "number = int(input(\"Enter a number:\"))\n",
    "\n",
    "result = math.isqrt(number)\n",
    "\n",
    "if result*result == number:\n",
    "    print(f\"{number} is perfect square\")\n",
    "else:\n",
    "    print(f\"{number} is not perfect square\")\n"
   ]
  }
 ],
 "metadata": {
  "kernelspec": {
   "display_name": "Python 3",
   "language": "python",
   "name": "python3"
  },
  "language_info": {
   "codemirror_mode": {
    "name": "ipython",
    "version": 3
   },
   "file_extension": ".py",
   "mimetype": "text/x-python",
   "name": "python",
   "nbconvert_exporter": "python",
   "pygments_lexer": "ipython3",
   "version": "3.13.3"
  }
 },
 "nbformat": 4,
 "nbformat_minor": 2
}
