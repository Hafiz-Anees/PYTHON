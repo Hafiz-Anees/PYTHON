{
 "cells": [
  {
   "cell_type": "markdown",
   "metadata": {},
   "source": [
    "## **Fucniton**\n",
    "\n",
    "In Python, a function is a reusable block of code that performs a specific task.\n",
    "\n",
    "### **Defining a Function**\n",
    "\n",
    "- In Python, you define a function using the ```def``` keyword, followed by the function name ,  ```parentheses ( )``` and ```colon : ```. \n",
    "- Inside the parentheses, you can specify parameters. \n"
   ]
  },
  {
   "cell_type": "markdown",
   "metadata": {},
   "source": [
    "### 1-Function wihtout parameters"
   ]
  },
  {
   "cell_type": "code",
   "execution_count": 2,
   "metadata": {},
   "outputs": [
    {
     "name": "stdout",
     "output_type": "stream",
     "text": [
      "Hello,I am anees\n"
     ]
    }
   ],
   "source": [
    "# defining the function\n",
    "def myname():\n",
    "    print(\"Hello,I am anees\")\n",
    "\n",
    "\n",
    "# calling function\n",
    "myname()"
   ]
  },
  {
   "cell_type": "markdown",
   "metadata": {},
   "source": [
    "### 2-Function with parameters"
   ]
  },
  {
   "cell_type": "code",
   "execution_count": 4,
   "metadata": {},
   "outputs": [
    {
     "name": "stdout",
     "output_type": "stream",
     "text": [
      "name : anees \n",
      "age : 21 \n",
      "grade : B\n"
     ]
    }
   ],
   "source": [
    "def studentinfo(name,age,grade):\n",
    "    print(f\"name : {name} \\nage : {age} \\ngrade : {grade}\")\n",
    "\n",
    "# calling function\n",
    "\n",
    "studentinfo(\"anees\",21,'B')"
   ]
  },
  {
   "cell_type": "markdown",
   "metadata": {},
   "source": [
    "### 3-Arbitrary Arguments (*args)\n",
    "\n",
    "- Sometimes, you may not know in advance how many arguments a function will receive. Using ```*args``` allows you to pass a variable number of positional arguments to the function.\n",
    "- ```*args collects all additional positional arguments into a tuple.```"
   ]
  },
  {
   "cell_type": "code",
   "execution_count": 10,
   "metadata": {},
   "outputs": [
    {
     "name": "stdout",
     "output_type": "stream",
     "text": [
      "1 2 3 4 5\n"
     ]
    }
   ],
   "source": [
    "def print_all(*args):\n",
    "    print(*args)\n",
    "\n",
    "print_all(1,2,3,4,5)"
   ]
  },
  {
   "cell_type": "markdown",
   "metadata": {},
   "source": [
    "```**kwargs. It collects these arguments into a dictionary.```"
   ]
  },
  {
   "cell_type": "code",
   "execution_count": 13,
   "metadata": {},
   "outputs": [
    {
     "name": "stdout",
     "output_type": "stream",
     "text": [
      "{'name': 'anees', 'age': 25, 'grade': 'A'}\n"
     ]
    }
   ],
   "source": [
    "def student_data(*kwargs):\n",
    "    print(*kwargs)\n",
    "    \n",
    "student_data({'name':'anees','age':25,'grade':'A'})"
   ]
  },
  {
   "cell_type": "markdown",
   "metadata": {},
   "source": [
    "### 4-Function with a Return Value\n",
    "\n",
    "- Functions can also return values using the ```return keyword```. \n",
    "- This allows you to pass the result of a function to other parts of your code."
   ]
  },
  {
   "cell_type": "code",
   "execution_count": 14,
   "metadata": {},
   "outputs": [],
   "source": [
    "def addition(a,b):\n",
    "    return a+b\n",
    "\n",
    "Sum = addition(4,5)"
   ]
  },
  {
   "cell_type": "code",
   "execution_count": 17,
   "metadata": {},
   "outputs": [
    {
     "name": "stdout",
     "output_type": "stream",
     "text": [
      "Sum of 4 + 5 = 9\n"
     ]
    }
   ],
   "source": [
    "print(f\"Sum of 4 + 5 = {Sum}\")"
   ]
  },
  {
   "cell_type": "code",
   "execution_count": null,
   "metadata": {},
   "outputs": [],
   "source": []
  }
 ],
 "metadata": {
  "kernelspec": {
   "display_name": "Python 3",
   "language": "python",
   "name": "python3"
  },
  "language_info": {
   "codemirror_mode": {
    "name": "ipython",
    "version": 3
   },
   "file_extension": ".py",
   "mimetype": "text/x-python",
   "name": "python",
   "nbconvert_exporter": "python",
   "pygments_lexer": "ipython3",
   "version": "3.12.1"
  }
 },
 "nbformat": 4,
 "nbformat_minor": 2
}
