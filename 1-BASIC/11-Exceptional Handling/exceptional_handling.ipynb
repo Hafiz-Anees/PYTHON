{
 "cells": [
  {
   "cell_type": "markdown",
   "id": "b105c59f",
   "metadata": {},
   "source": [
    "## Error Handling vs Exception Handling"
   ]
  },
  {
   "cell_type": "markdown",
   "id": "245de358",
   "metadata": {},
   "source": [
    "| Aspect         | Error Handling                                             | Exception Handling                                      |\n",
    "| -------------- | ---------------------------------------------------------- | ------------------------------------------------------- |\n",
    "| **Meaning**    | General concept of managing errors in a program            | A specific technique in Python to manage runtime errors |\n",
    "| **Scope**      | Broad term (includes prevention, validation, and handling) | Subset of error handling focused on catching exceptions |\n",
    "| **Tools used** | Validation, debugging, logging, testing                    | `try`, `except`, `else`, `finally` blocks               |\n",
    "| **Goal**       | Avoid program failure                                      | Prevent crash when errors occur                         |\n"
   ]
  },
  {
   "cell_type": "markdown",
   "id": "9b4125f5",
   "metadata": {},
   "source": [
    "| Exception Type      | Description                                       |\n",
    "| ------------------- | ------------------------------------------------- |\n",
    "| `ZeroDivisionError` | Division by zero                                  |\n",
    "| `ValueError`        | Invalid type/value (e.g., converting text to int) |\n",
    "| `TypeError`         | Wrong data type used                              |\n",
    "| `FileNotFoundError` | File not found                                    |\n",
    "| `IndexError`        | List index out of range                           |\n",
    "| `KeyError`          | Key not found in dictionary                       |\n",
    "| `NameError`         | Using variable before defining it                 |\n",
    "| `AttributeError`    | Invalid attribute access                          |\n",
    "| `ImportError`       | Importing a non-existing module                   |\n"
   ]
  },
  {
   "cell_type": "code",
   "execution_count": 13,
   "id": "2204761e",
   "metadata": {},
   "outputs": [
    {
     "name": "stdout",
     "output_type": "stream",
     "text": [
      "You cannot divide a number by zero!\n"
     ]
    }
   ],
   "source": [
    "try:\n",
    "    print(10/0)\n",
    "except ZeroDivisionError:\n",
    "    print(\"You cannot divide a number by zero!\")\n"
   ]
  },
  {
   "cell_type": "code",
   "execution_count": 16,
   "id": "ef8f38b6",
   "metadata": {},
   "outputs": [
    {
     "name": "stdout",
     "output_type": "stream",
     "text": [
      "You can only divide numbers!\n"
     ]
    }
   ],
   "source": [
    "try:\n",
    "    print(10/'i')\n",
    "except TypeError:\n",
    "    print(\"You can only divide numbers!\")"
   ]
  },
  {
   "cell_type": "code",
   "execution_count": 19,
   "id": "750caebe",
   "metadata": {},
   "outputs": [
    {
     "name": "stdout",
     "output_type": "stream",
     "text": [
      "Variable 'b' is not defined!\n"
     ]
    }
   ],
   "source": [
    "try:\n",
    "    print(10*b)\n",
    "except NameError:\n",
    "    print(\"Variable 'b' is not defined!\")"
   ]
  },
  {
   "cell_type": "code",
   "execution_count": 28,
   "id": "9169a090",
   "metadata": {},
   "outputs": [
    {
     "name": "stdout",
     "output_type": "stream",
     "text": [
      "90\n",
      "Execution completed.\n"
     ]
    }
   ],
   "source": [
    "# general exception handling\n",
    "try:\n",
    "    print(10*9)\n",
    "except Exception as e:\n",
    "    print(e)\n",
    "finally:\n",
    "    print(\"Execution completed.\")"
   ]
  },
  {
   "cell_type": "code",
   "execution_count": null,
   "id": "5783382e",
   "metadata": {},
   "outputs": [],
   "source": []
  }
 ],
 "metadata": {
  "kernelspec": {
   "display_name": "Python 3",
   "language": "python",
   "name": "python3"
  },
  "language_info": {
   "codemirror_mode": {
    "name": "ipython",
    "version": 3
   },
   "file_extension": ".py",
   "mimetype": "text/x-python",
   "name": "python",
   "nbconvert_exporter": "python",
   "pygments_lexer": "ipython3",
   "version": "3.13.7"
  }
 },
 "nbformat": 4,
 "nbformat_minor": 5
}
