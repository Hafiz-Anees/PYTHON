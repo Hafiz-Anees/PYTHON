{
 "cells": [
  {
   "cell_type": "markdown",
   "id": "03298a25",
   "metadata": {},
   "source": [
    "## SIMPLE CALCULATOR\n",
    "\n",
    "what will you learn?\n",
    "\n",
    "- What are `Exceptions`?\n",
    "- Using try, except, else, and finally\n",
    "- Handling Multiple Exceptions\n",
    "- Raising Custom Exceptions\n",
    "- Day 11 Project: Safe Calculator"
   ]
  },
  {
   "cell_type": "code",
   "execution_count": 2,
   "id": "4519e921",
   "metadata": {},
   "outputs": [
    {
     "name": "stdout",
     "output_type": "stream",
     "text": [
      "\n",
      "--- Safe Calculator Menu ---\n",
      "1. Add\n",
      "2. Subtract\n",
      "3. Multiply\n",
      "4. Divide\n",
      "5. Exit\n"
     ]
    },
    {
     "name": "stdout",
     "output_type": "stream",
     "text": [
      "Result: 5.0\n",
      "Thank you for using the Safe Calculator!... Restarting...\n",
      "\n",
      "--- Safe Calculator Menu ---\n",
      "1. Add\n",
      "2. Subtract\n",
      "3. Multiply\n",
      "4. Divide\n",
      "5. Exit\n",
      "Exiting the calculator. Goodbye!\n"
     ]
    }
   ],
   "source": [
    "# Safe Calculator\n",
    "\n",
    "# Step 1: Define Calculator Functions\n",
    "def add(x, y):\n",
    "  return x + y\n",
    "\n",
    "def subtract(x, y):\n",
    "  return x - y\n",
    "\n",
    "def multiply(x, y):\n",
    "  return x * y\n",
    "\n",
    "def divide(x, y):\n",
    "  if y == 0:\n",
    "    raise ZeroDivisionError(\"Cannot divide by zero\")\n",
    "  return x / y\n",
    "\n",
    "# Step 2: Display Menu\n",
    "def show_menu():\n",
    "  print(\"\\n--- Safe Calculator Menu ---\")\n",
    "  print(\"1. Add\")\n",
    "  print(\"2. Subtract\")\n",
    "  print(\"3. Multiply\")\n",
    "  print(\"4. Divide\")\n",
    "  print(\"5. Exit\")\n",
    "\n",
    "# Step 3: Main Program\n",
    "while True:\n",
    "  show_menu()\n",
    "  choice = input(\"Enter your choice (1-5): \")\n",
    "\n",
    "  if choice == '5':\n",
    "    print(\"Exiting the calculator. Goodbye!\")\n",
    "    break\n",
    "\n",
    "  try:\n",
    "    num1 = float(input(\"Enter first number: \"))\n",
    "    num2 = float(input(\"Enter second number: \"))\n",
    "\n",
    "    if choice == '1':\n",
    "      print(\"Result:\", add(num1, num2))\n",
    "    elif choice == '2':\n",
    "      print(\"Result:\", subtract(num1, num2))\n",
    "    elif choice == '3':\n",
    "      print(\"Result:\", multiply(num1, num2))\n",
    "    elif choice == '4':\n",
    "      print(\"Result:\", divide(num1, num2))\n",
    "    else:\n",
    "      print(\"Invalid choice. Please select a valid option.\")\n",
    "\n",
    "  except ValueError:\n",
    "    print(\"Invalid input. Please enter valid numbers.\")\n",
    "  except ZeroDivisionError as e:\n",
    "    print(f\"Error: {e}\")\n",
    "  except Exception as e:\n",
    "    print(f\"An unexpected error occurred: {e}\")\n",
    "  finally:\n",
    "    print(\"Thank you for using the Safe Calculator!... Restarting...\")\n"
   ]
  },
  {
   "cell_type": "code",
   "execution_count": null,
   "id": "f8d0e3c2",
   "metadata": {},
   "outputs": [],
   "source": []
  }
 ],
 "metadata": {
  "kernelspec": {
   "display_name": "Python 3",
   "language": "python",
   "name": "python3"
  },
  "language_info": {
   "codemirror_mode": {
    "name": "ipython",
    "version": 3
   },
   "file_extension": ".py",
   "mimetype": "text/x-python",
   "name": "python",
   "nbconvert_exporter": "python",
   "pygments_lexer": "ipython3",
   "version": "3.13.3"
  }
 },
 "nbformat": 4,
 "nbformat_minor": 5
}
