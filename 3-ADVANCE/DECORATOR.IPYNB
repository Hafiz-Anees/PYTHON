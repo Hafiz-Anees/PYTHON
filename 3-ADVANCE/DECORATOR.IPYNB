{
 "cells": [
  {
   "cell_type": "markdown",
   "id": "33ae6637",
   "metadata": {},
   "source": [
    "✅ What is a Decorator in Python?\n",
    "- Allows you to modify or extend the behavior of a function or class without changing its actual code.\n",
    "- It’s often used to add functionality like logging, access control, timing, or memoization to existing functions in a clean and readable way."
   ]
  },
  {
   "cell_type": "markdown",
   "id": "077b3aa0",
   "metadata": {},
   "source": [
    "## function copy"
   ]
  },
  {
   "cell_type": "code",
   "execution_count": 13,
   "id": "9d23ec9a",
   "metadata": {},
   "outputs": [],
   "source": [
    "# function copy\n",
    "\n",
    "def say_hello():\n",
    "    return \"hello, how are you\"\n",
    "\n",
    "greet = say_hello"
   ]
  },
  {
   "cell_type": "code",
   "execution_count": 14,
   "id": "f3cd4501",
   "metadata": {},
   "outputs": [
    {
     "name": "stdout",
     "output_type": "stream",
     "text": [
      "hello, how are you\n",
      "hello, how are you\n"
     ]
    }
   ],
   "source": [
    "print(greet())\n",
    "del say_hello\n",
    "print(greet())"
   ]
  },
  {
   "cell_type": "markdown",
   "id": "d7646963",
   "metadata": {},
   "source": [
    "## closures"
   ]
  },
  {
   "cell_type": "code",
   "execution_count": null,
   "id": "23277cf6",
   "metadata": {},
   "outputs": [],
   "source": [
    "## closures\n",
    "\n",
    "def outer_func():\n",
    "    msg = \"i am outer function\"  # it can be accessible in inner function\n",
    "\n",
    "    def inner_func():\n",
    "        print(\"this is inner function\")\n",
    "        print(msg)\n",
    "\n",
    "    return inner_func()"
   ]
  },
  {
   "cell_type": "code",
   "execution_count": 18,
   "id": "8fb60040",
   "metadata": {},
   "outputs": [
    {
     "name": "stdout",
     "output_type": "stream",
     "text": [
      "this is inner function\n",
      "i am outer function\n"
     ]
    }
   ],
   "source": [
    "outer_func()"
   ]
  },
  {
   "cell_type": "code",
   "execution_count": null,
   "id": "629f6463",
   "metadata": {},
   "outputs": [],
   "source": [
    "\n",
    "# can also pass function as a paramter\n",
    "def outer_func(Function):\n",
    "    msg = \"i am outer function\"  # it can be accessible in inner function\n",
    "\n",
    "    def inner_func():\n",
    "        print(\"this is inner function\")\n",
    "        print(Function(\"hello\"))\n",
    "\n",
    "    return inner_func()"
   ]
  },
  {
   "cell_type": "code",
   "execution_count": 23,
   "id": "84c1ab3d",
   "metadata": {},
   "outputs": [
    {
     "name": "stdout",
     "output_type": "stream",
     "text": [
      "this is inner function\n",
      "5\n"
     ]
    }
   ],
   "source": [
    "outer_func(len)"
   ]
  },
  {
   "cell_type": "markdown",
   "id": "3d392e7d",
   "metadata": {},
   "source": [
    "## decorator"
   ]
  },
  {
   "cell_type": "code",
   "execution_count": 24,
   "id": "5e028f9f",
   "metadata": {},
   "outputs": [
    {
     "name": "stdout",
     "output_type": "stream",
     "text": [
      "Before the function runs.\n",
      "Hello!\n",
      "After the function runs.\n"
     ]
    }
   ],
   "source": [
    "def my_decorator(func):\n",
    "    def wrapper():\n",
    "        print(\"Before the function runs.\")\n",
    "        func()\n",
    "        print(\"After the function runs.\")\n",
    "    return wrapper\n",
    "\n",
    "@my_decorator\n",
    "def say_hello():\n",
    "    print(\"Hello!\")\n",
    "\n",
    "say_hello()\n"
   ]
  },
  {
   "cell_type": "code",
   "execution_count": null,
   "id": "62a204d4",
   "metadata": {},
   "outputs": [],
   "source": []
  }
 ],
 "metadata": {
  "kernelspec": {
   "display_name": "ml_env",
   "language": "python",
   "name": "python3"
  },
  "language_info": {
   "codemirror_mode": {
    "name": "ipython",
    "version": 3
   },
   "file_extension": ".py",
   "mimetype": "text/x-python",
   "name": "python",
   "nbconvert_exporter": "python",
   "pygments_lexer": "ipython3",
   "version": "3.13.4"
  }
 },
 "nbformat": 4,
 "nbformat_minor": 5
}
