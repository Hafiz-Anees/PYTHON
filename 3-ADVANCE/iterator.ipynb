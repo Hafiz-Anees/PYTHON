{
 "cells": [
  {
   "cell_type": "markdown",
   "id": "f31f5147",
   "metadata": {},
   "source": [
    "## ✅ What is an Iterator in Python?\n",
    "\n",
    "An **iterator** in Python is an object that allows you to **traverse through all the elements** of a collection (like a list, tuple, dictionary, etc.) **one at a time** without needing to know the underlying structure.\n",
    "\n",
    "To be an iterator, an object must implement two methods:\n",
    "\n",
    "- `__iter__()` → returns the iterator object itself.  \n",
    "- `__next__()` → returns the next element from the sequence. When there are no more elements, it raises a `StopIteration` exception.\n",
    "\n",
    "---\n",
    "\n",
    "## ✅ Advantages of Iterators in Python\n",
    "\n",
    "1. **Memory Efficiency**  \n",
    "   Iterators generate items one at a time, which is ideal for working with large datasets.\n",
    "\n",
    "2. **Lazy Evaluation**  \n",
    "   Elements are produced only when needed, reducing unnecessary computations.\n",
    "\n",
    "3. **Custom Iteration Logic**  \n",
    "   You can define your own logic by implementing `__next__()`.\n",
    "\n",
    "4. **Infinite Sequences**  \n",
    "   You can create iterators that generate values endlessly (e.g., using `itertools.count()`).\n",
    "\n",
    "5. **Better Control Over Data Traversal**  \n",
    "   You can manually control how and when data is accessed, which isn't possible with regular loops.\n",
    "\n",
    "6. **Pause and Resume Capability**  \n",
    "   Iterators maintain their state, allowing them to be paused and resumed later.\n"
   ]
  },
  {
   "cell_type": "code",
   "execution_count": 14,
   "id": "364d25a6",
   "metadata": {},
   "outputs": [
    {
     "data": {
      "text/plain": [
       "[1, 2, 3, 4, 5]"
      ]
     },
     "execution_count": 14,
     "metadata": {},
     "output_type": "execute_result"
    }
   ],
   "source": [
    "mylist = [1,2,3,4,5]\n",
    "mylist"
   ]
  },
  {
   "cell_type": "code",
   "execution_count": 15,
   "id": "3515c262",
   "metadata": {},
   "outputs": [
    {
     "name": "stdout",
     "output_type": "stream",
     "text": [
      "<class 'list_iterator'>\n"
     ]
    }
   ],
   "source": [
    "iterator = iter(mylist)\n",
    "print(type(iterator))"
   ]
  },
  {
   "cell_type": "code",
   "execution_count": 16,
   "id": "fcda7cac",
   "metadata": {},
   "outputs": [
    {
     "data": {
      "text/plain": [
       "<list_iterator at 0x25affe45b10>"
      ]
     },
     "execution_count": 16,
     "metadata": {},
     "output_type": "execute_result"
    }
   ],
   "source": [
    "iterator"
   ]
  },
  {
   "cell_type": "code",
   "execution_count": 17,
   "id": "af36aea9",
   "metadata": {},
   "outputs": [
    {
     "data": {
      "text/plain": [
       "1"
      ]
     },
     "execution_count": 17,
     "metadata": {},
     "output_type": "execute_result"
    }
   ],
   "source": [
    "## in order to iterate through all the element\n",
    "\n",
    "next(iterator)"
   ]
  },
  {
   "cell_type": "code",
   "execution_count": 18,
   "id": "d671faeb",
   "metadata": {},
   "outputs": [],
   "source": [
    "iterator = iter(mylist)"
   ]
  },
  {
   "cell_type": "code",
   "execution_count": 19,
   "id": "6dff3357",
   "metadata": {},
   "outputs": [
    {
     "name": "stdout",
     "output_type": "stream",
     "text": [
      "1\n"
     ]
    }
   ],
   "source": [
    "try:\n",
    "    print(next(iterator))\n",
    "except StopIteration:\n",
    "    print(\"all element iterated\")"
   ]
  },
  {
   "cell_type": "markdown",
   "id": "6d07b50d",
   "metadata": {},
   "source": [
    "## ✅ What is a Generator in Python?\n",
    "\n",
    "- A **generator** in Python is a special type of **iterator** that allows you to **generate values on the fly**.\n",
    "- using the `yield` keyword instead of returning all the values at once like a list."
   ]
  },
  {
   "cell_type": "code",
   "execution_count": 1,
   "id": "09d88fa0",
   "metadata": {},
   "outputs": [],
   "source": [
    "# generator ===> use to create values for iterator\n",
    "\n",
    "def square(n):\n",
    "    for i in range(3):\n",
    "        yield i**2  # save value in i as locally after calculating\n",
    "a = square(3)  # creating itrator having square of 3 number 0,1,2"
   ]
  },
  {
   "cell_type": "code",
   "execution_count": 2,
   "id": "d175c15d",
   "metadata": {},
   "outputs": [
    {
     "data": {
      "text/plain": [
       "0"
      ]
     },
     "execution_count": 2,
     "metadata": {},
     "output_type": "execute_result"
    }
   ],
   "source": [
    "next(a)"
   ]
  },
  {
   "cell_type": "code",
   "execution_count": 22,
   "id": "13460d94",
   "metadata": {},
   "outputs": [
    {
     "data": {
      "text/plain": [
       "1"
      ]
     },
     "execution_count": 22,
     "metadata": {},
     "output_type": "execute_result"
    }
   ],
   "source": [
    "next(a)"
   ]
  },
  {
   "cell_type": "code",
   "execution_count": 23,
   "id": "53db1fa3",
   "metadata": {},
   "outputs": [
    {
     "data": {
      "text/plain": [
       "4"
      ]
     },
     "execution_count": 23,
     "metadata": {},
     "output_type": "execute_result"
    }
   ],
   "source": [
    "next(a)"
   ]
  },
  {
   "cell_type": "code",
   "execution_count": 24,
   "id": "48d38c24",
   "metadata": {},
   "outputs": [],
   "source": [
    "def my_generator():\n",
    "    yield 1\n",
    "    yield 2 \n",
    "    yield 3\n",
    "\n",
    "gen=my_generator()"
   ]
  },
  {
   "cell_type": "code",
   "execution_count": 25,
   "id": "1608a9a5",
   "metadata": {},
   "outputs": [
    {
     "data": {
      "text/plain": [
       "1"
      ]
     },
     "execution_count": 25,
     "metadata": {},
     "output_type": "execute_result"
    }
   ],
   "source": [
    "next(gen)"
   ]
  },
  {
   "cell_type": "code",
   "execution_count": 26,
   "id": "ac1b22a1",
   "metadata": {},
   "outputs": [
    {
     "data": {
      "text/plain": [
       "2"
      ]
     },
     "execution_count": 26,
     "metadata": {},
     "output_type": "execute_result"
    }
   ],
   "source": [
    "next(gen)"
   ]
  },
  {
   "cell_type": "code",
   "execution_count": 27,
   "id": "406db5bb",
   "metadata": {},
   "outputs": [
    {
     "data": {
      "text/plain": [
       "3"
      ]
     },
     "execution_count": 27,
     "metadata": {},
     "output_type": "execute_result"
    }
   ],
   "source": [
    "next(gen)"
   ]
  },
  {
   "cell_type": "markdown",
   "id": "67d8b797",
   "metadata": {},
   "source": [
    "## ✅ Where Are Generators Used in Practice?\n",
    "\n",
    "1. **Processing Large Files**  \n",
    "   Instead of reading all lines of a file into memory:\n",
    "   ```python\n",
    "   def read_large_file(file_path):\n",
    "       with open(file_path) as f:\n",
    "           for line in f:\n",
    "               yield line"
   ]
  },
  {
   "cell_type": "code",
   "execution_count": 31,
   "id": "1faf53e2",
   "metadata": {},
   "outputs": [],
   "source": [
    "## practical exmaple : reading for large files\n",
    "\n",
    "def read_large_file(file_path):\n",
    "    with open(file_path,'r') as file:\n",
    "        for line in file:\n",
    "            yield line\n"
   ]
  },
  {
   "cell_type": "code",
   "execution_count": 32,
   "id": "289198c8",
   "metadata": {},
   "outputs": [],
   "source": [
    "gen=read_large_file(\"large_file.txt\")"
   ]
  },
  {
   "cell_type": "code",
   "execution_count": 33,
   "id": "ab39b5db",
   "metadata": {},
   "outputs": [
    {
     "data": {
      "text/plain": [
       "'Python is important because of its simplicity, versatility, and wide adoption across industries.\\n'"
      ]
     },
     "execution_count": 33,
     "metadata": {},
     "output_type": "execute_result"
    }
   ],
   "source": [
    "next(gen)"
   ]
  },
  {
   "cell_type": "code",
   "execution_count": 34,
   "id": "a636469d",
   "metadata": {},
   "outputs": [
    {
     "data": {
      "text/plain": [
       "'It is one of the most beginner-friendly programming languages, with a clean and readable syntax that allows new programmers to quickly learn and build useful applications. At the same time, it is powerful enough to support large-scale software systems, scientific computing, artificial intelligence, and web development.\\n'"
      ]
     },
     "execution_count": 34,
     "metadata": {},
     "output_type": "execute_result"
    }
   ],
   "source": [
    "next(gen)"
   ]
  },
  {
   "cell_type": "code",
   "execution_count": null,
   "id": "ab127f6d",
   "metadata": {},
   "outputs": [],
   "source": []
  }
 ],
 "metadata": {
  "kernelspec": {
   "display_name": "Python 3",
   "language": "python",
   "name": "python3"
  },
  "language_info": {
   "codemirror_mode": {
    "name": "ipython",
    "version": 3
   },
   "file_extension": ".py",
   "mimetype": "text/x-python",
   "name": "python",
   "nbconvert_exporter": "python",
   "pygments_lexer": "ipython3",
   "version": "3.13.7"
  }
 },
 "nbformat": 4,
 "nbformat_minor": 5
}
