{
 "cells": [
  {
   "cell_type": "markdown",
   "id": "2f2b348b",
   "metadata": {},
   "source": [
    "# Linear Regression\n",
    "\n",
    "- Used to predict continuous target variable based on one or more features\n"
   ]
  },
  {
   "cell_type": "code",
   "execution_count": 1,
   "id": "d5d474b6",
   "metadata": {},
   "outputs": [],
   "source": [
    "from sklearn.linear_model import LinearRegression\n",
    "from sklearn.model_selection import train_test_split\n",
    "from sklearn.metrics import mean_squared_error\n",
    "import numpy as np\n",
    "import pandas as pd"
   ]
  },
  {
   "cell_type": "code",
   "execution_count": 2,
   "id": "ad242cf4",
   "metadata": {},
   "outputs": [
    {
     "name": "stdout",
     "output_type": "stream",
     "text": [
      "   Area (sqft)  Price ($)\n",
      "0         1400     245000\n",
      "1         1600     312000\n",
      "2         1700     279000\n",
      "3         1875     308000\n",
      "4         1100     199000\n",
      "5         1550     219000\n",
      "6         2350     405000\n",
      "7         2450     324000\n",
      "8         1425     319000\n",
      "9         1700     255000\n",
      "actual price:  [[405000]\n",
      " [312000]]\n",
      "predicted price: [[325202.34113712]\n",
      " [264449.83277592]]\n",
      "mean squared error:  4314342381.516986\n"
     ]
    }
   ],
   "source": [
    "# sample data \n",
    "\n",
    "X = np.array([[1400],[1600],[1700],[1875],[1100],[1550],[2350],[2450],[1425],[1700]])\n",
    "y = np.array([[245000],[312000],[279000],[308000],[199000],[219000],[405000],[324000],[319000],[255000]])\n",
    "\n",
    "# panda data frame\n",
    "\n",
    "df = pd.DataFrame({\n",
    "    'Area (sqft)': X.flatten(),\n",
    "    'Price ($)': y.flatten()\n",
    "})\n",
    "\n",
    "# split data into training and testing\n",
    "\n",
    "X_train , X_test , y_train, y_test = train_test_split(X,y,test_size=0.2,random_state=2025)\n",
    "\n",
    "# initalize the model\n",
    "\n",
    "model = LinearRegression()\n",
    "\n",
    "model.fit(X_train,y_train)\n",
    "\n",
    "# make prediction\n",
    "\n",
    "y_pred = model.predict(X_test)\n",
    "\n",
    "# Evaluate the model\n",
    "\n",
    "mse = mean_squared_error(y_test,y_pred)\n",
    "\n",
    "print(df)\n",
    "\n",
    "print(\"actual price: \",y_test)\n",
    "print(\"predicted price:\", y_pred)\n",
    "print(\"mean squared error: \",mse)"
   ]
  },
  {
   "cell_type": "code",
   "execution_count": 3,
   "id": "d0a864d2",
   "metadata": {},
   "outputs": [
    {
     "name": "stdout",
     "output_type": "stream",
     "text": [
      "[[248249.1638796]]\n"
     ]
    }
   ],
   "source": [
    "def get_house_size(sizeofhouse):\n",
    "\n",
    "  return model.predict(np.array([[sizeofhouse]]))\n",
    "\n",
    "size = eval(input(\"Enter the size of the house: \"))\n",
    "print(get_house_size(size))"
   ]
  }
 ],
 "metadata": {
  "kernelspec": {
   "display_name": "p_env",
   "language": "python",
   "name": "python3"
  },
  "language_info": {
   "codemirror_mode": {
    "name": "ipython",
    "version": 3
   },
   "file_extension": ".py",
   "mimetype": "text/x-python",
   "name": "python",
   "nbconvert_exporter": "python",
   "pygments_lexer": "ipython3",
   "version": "3.13.4"
  }
 },
 "nbformat": 4,
 "nbformat_minor": 5
}
