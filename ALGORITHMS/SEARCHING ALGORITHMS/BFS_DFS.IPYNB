{
 "cells": [
  {
   "cell_type": "markdown",
   "metadata": {},
   "source": [
    "# BFS (Breadth first search)\n",
    "\n",
    "![My Image](../IMAGES/bfs.png)"
   ]
  },
  {
   "cell_type": "code",
   "execution_count": 5,
   "metadata": {},
   "outputs": [
    {
     "name": "stdout",
     "output_type": "stream",
     "text": [
      "5 3 7 2 4 8 "
     ]
    }
   ],
   "source": [
    "graph = {\n",
    "    '5' : ['3','7'],\n",
    "    '3' : ['2','4'],\n",
    "    '7' : ['8'],\n",
    "    '2' : [],\n",
    "    '4' : ['8'],\n",
    "    '8' : []\n",
    "}\n",
    "\n",
    "visited_queue = []\n",
    "queue = []\n",
    "\n",
    "def breadth_fisrt_search(Visisted,Graph,current_node):\n",
    "    queue.append(current_node)\n",
    "\n",
    "    while queue:\n",
    "        current_node = queue.pop(0)\n",
    "\n",
    "        if current_node not in visited_queue:\n",
    "            print(current_node,end=\" \")\n",
    "            visited_queue.append(current_node)\n",
    "        \n",
    "        for node in Graph[current_node]:\n",
    "            if node not in visited_queue:\n",
    "                queue.append(node)\n",
    "\n",
    "breadth_fisrt_search(visited_queue,graph,'5')\n",
    "            \n",
    "        \n"
   ]
  },
  {
   "cell_type": "markdown",
   "metadata": {},
   "source": [
    "# DFS DEPTH SEARCH ALGORITHM\n",
    "!['IMAGES](../IMAGES/dfs.png)"
   ]
  },
  {
   "cell_type": "code",
   "execution_count": 6,
   "metadata": {},
   "outputs": [
    {
     "name": "stdout",
     "output_type": "stream",
     "text": [
      "A G B C E D F "
     ]
    }
   ],
   "source": [
    "G = {\n",
    "    'A':['B','G'],\n",
    "    'B':['C'],\n",
    "    'C':['E'],\n",
    "    'E':['F','D'],\n",
    "    'D':['B'],\n",
    "    'F':[],\n",
    "    'G':[]\n",
    "}\n",
    "\n",
    "stack = []\n",
    "visited = set()\n",
    "\n",
    "def dfs(visited,graph,node):\n",
    "    stack = [node]\n",
    "    while stack:    \n",
    "        node = stack.pop()\n",
    "        if node not in visited:\n",
    "            print(node,end=\" \")\n",
    "            visited.add(node)\n",
    "            # if node == 'C':\n",
    "            #     print(node,end=\" \")\n",
    "            #     visited.add(node)\n",
    "            #     break\n",
    "            # else:\n",
    "            #     print(node,end=\" \")\n",
    "        \n",
    "        for n in graph[node]:\n",
    "            if n not in visited:\n",
    "                stack.append(n)\n",
    "        \n",
    "dfs(visited,G,'A')"
   ]
  },
  {
   "cell_type": "code",
   "execution_count": null,
   "metadata": {},
   "outputs": [],
   "source": []
  }
 ],
 "metadata": {
  "kernelspec": {
   "display_name": "Python 3",
   "language": "python",
   "name": "python3"
  },
  "language_info": {
   "codemirror_mode": {
    "name": "ipython",
    "version": 3
   },
   "file_extension": ".py",
   "mimetype": "text/x-python",
   "name": "python",
   "nbconvert_exporter": "python",
   "pygments_lexer": "ipython3",
   "version": "3.12.1"
  }
 },
 "nbformat": 4,
 "nbformat_minor": 2
}
