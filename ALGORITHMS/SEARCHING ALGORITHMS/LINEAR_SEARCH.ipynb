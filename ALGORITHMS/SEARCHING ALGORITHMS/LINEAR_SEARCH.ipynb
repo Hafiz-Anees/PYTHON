{
 "cells": [
  {
   "cell_type": "markdown",
   "metadata": {},
   "source": [
    "# lINEAR SEARCH ALGORITHM\n",
    "\n",
    "!['LINEAR SEARCH ALGORITHM'](../IMAGES/LINEAR_SEARCH.jpeg)"
   ]
  },
  {
   "cell_type": "code",
   "execution_count": 7,
   "metadata": {},
   "outputs": [
    {
     "name": "stdout",
     "output_type": "stream",
     "text": [
      "target element found at index 3\n"
     ]
    }
   ],
   "source": [
    "MY_LIST = [1,2,4,6,7,9,13,17]\n",
    "\n",
    "target = 6\n",
    "length = len(MY_LIST)\n",
    "def LinearSearch():\n",
    "    for i in range(length):\n",
    "        if  MY_LIST[i] == target:\n",
    "            print(f\"target element found at index {i}\")\n",
    "            break\n",
    "LinearSearch()"
   ]
  },
  {
   "cell_type": "code",
   "execution_count": null,
   "metadata": {},
   "outputs": [],
   "source": []
  }
 ],
 "metadata": {
  "kernelspec": {
   "display_name": "Python 3",
   "language": "python",
   "name": "python3"
  },
  "language_info": {
   "codemirror_mode": {
    "name": "ipython",
    "version": 3
   },
   "file_extension": ".py",
   "mimetype": "text/x-python",
   "name": "python",
   "nbconvert_exporter": "python",
   "pygments_lexer": "ipython3",
   "version": "3.12.1"
  }
 },
 "nbformat": 4,
 "nbformat_minor": 2
}
