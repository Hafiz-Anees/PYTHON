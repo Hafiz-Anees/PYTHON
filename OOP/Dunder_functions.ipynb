{
 "cells": [
  {
   "cell_type": "markdown",
   "metadata": {},
   "source": [
    "## operator overloading "
   ]
  },
  {
   "cell_type": "code",
   "execution_count": 15,
   "metadata": {},
   "outputs": [
    {
     "name": "stdout",
     "output_type": "stream",
     "text": [
      "Emplyee name: anees Khan\n"
     ]
    }
   ],
   "source": [
    "class Employee():\n",
    "    def __init__(self,name):\n",
    "        self.name = name\n",
    "    \n",
    "    def __add__(self,another_name):\n",
    "        return Employee(name=self.name +  \" \" + another_name.name)\n",
    "    \n",
    "    def __str__(self):\n",
    "        return \"Emplyee name: {}\".format(self.name) # must return string \n",
    "    \n",
    "\n",
    "E1 = Employee(\"anees\")\n",
    "E2 = Employee(\"Khan\")\n",
    "\n",
    "E3 = E1 +  E2\n",
    "\n",
    "print(E3)\n"
   ]
  },
  {
   "cell_type": "code",
   "execution_count": null,
   "metadata": {},
   "outputs": [],
   "source": []
  }
 ],
 "metadata": {
  "kernelspec": {
   "display_name": "Python 3",
   "language": "python",
   "name": "python3"
  },
  "language_info": {
   "codemirror_mode": {
    "name": "ipython",
    "version": 3
   },
   "file_extension": ".py",
   "mimetype": "text/x-python",
   "name": "python",
   "nbconvert_exporter": "python",
   "pygments_lexer": "ipython3",
   "version": "3.12.1"
  }
 },
 "nbformat": 4,
 "nbformat_minor": 2
}
