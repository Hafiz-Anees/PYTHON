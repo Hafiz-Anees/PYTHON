{
 "cells": [
  {
   "cell_type": "markdown",
   "metadata": {},
   "source": [
    "## 1-setters , getters , deleters\n",
    "\n",
    "- also use for encapsulation"
   ]
  },
  {
   "cell_type": "code",
   "execution_count": 7,
   "metadata": {},
   "outputs": [
    {
     "name": "stdout",
     "output_type": "stream",
     "text": [
      "name of cat : bella\n",
      "name of cat : 12\n",
      "_age Deleted\n"
     ]
    }
   ],
   "source": [
    "class Animal:\n",
    "  def __init__(self):\n",
    "    self._name = None\n",
    "    self._age = None\n",
    "\n",
    "    ## setters\n",
    "  def set_name(self, new_name): \n",
    "    if isinstance(new_name,str):  # isintance The method checks if the value passed to new_age is of type int.\n",
    "      self._name = new_name\n",
    "    else:\n",
    "      raise TypeError\n",
    "    \n",
    "  def set_age(self,new_age):\n",
    "    if isinstance(new_age,int):\n",
    "      self._age = new_age\n",
    "    else:\n",
    "      raise TypeError\n",
    "\n",
    "    # getter\n",
    "  def get_name(self):\n",
    "    return self._name\n",
    "  \n",
    "  def get_age(self):\n",
    "    return self._age\n",
    "\n",
    "  def delete_age(self):\n",
    "    del self._age\n",
    "    print(\"_age Deleted\")\n",
    "\n",
    "cat = Animal()\n",
    "\n",
    "cat.set_name(\"bella\")\n",
    "cat.set_age(12)\n",
    "\n",
    "print(f\"name of cat : {cat.get_name()}\")\n",
    "print(f\"name of cat : {cat.get_age()}\")\n",
    "cat.delete_age()"
   ]
  },
  {
   "cell_type": "markdown",
   "metadata": {},
   "source": [
    "## 2-@property decorator\n",
    "\n",
    "- more pythonic way to create setter , getter and deleter"
   ]
  },
  {
   "cell_type": "code",
   "execution_count": 8,
   "metadata": {},
   "outputs": [
    {
     "name": "stdout",
     "output_type": "stream",
     "text": [
      "5\n"
     ]
    }
   ],
   "source": [
    "class Circle:\n",
    "    def __init__(self,radius):\n",
    "        self._radius = radius  # Private attribute\n",
    "\n",
    "    @property\n",
    "    def radius(self):\n",
    "        \"\"\"Getter method for radius.\"\"\"\n",
    "        return self._radius\n",
    "\n",
    "    @radius.setter\n",
    "    def radius(self, value):\n",
    "        \"\"\"Setter method for radius, includes validation.\"\"\"\n",
    "        if not isinstance(value,int):\n",
    "            raise ValueError(\"Radius cannot be negative.\")\n",
    "        self._radius = value\n",
    "\n",
    "    def get_radius(self):\n",
    "        return self.radius  # This calls the property getter\n",
    "\n",
    "# Usage\n",
    "circle = Circle(15)\n",
    "\n",
    "circle.radius = 5  # Setting the radius\n",
    "print(circle.get_radius())  # Using the explicit getter method\n"
   ]
  },
  {
   "cell_type": "markdown",
   "metadata": {},
   "source": [
    "## 3-Property "
   ]
  },
  {
   "cell_type": "code",
   "execution_count": 9,
   "metadata": {},
   "outputs": [
    {
     "name": "stdout",
     "output_type": "stream",
     "text": [
      "10\n"
     ]
    }
   ],
   "source": [
    "class Box:\n",
    "  def __init__(self, weight):\n",
    "    self.__weight = weight\n",
    "\n",
    " \n",
    "  def setWeight(self, weight):\n",
    "    if weight >= 0:\n",
    "      self.__weight = weight\n",
    "\n",
    "  def getWeight(self):\n",
    "    return self.__weight\n",
    "\n",
    "\n",
    "  def delWeight(self):\n",
    "    del self.__weight\n",
    "\n",
    "  weight = property(getWeight, setWeight, delWeight, \"Docstring for the 'weight' property\")\n",
    "\n",
    "box = Box(10)\n",
    "\n",
    "print(box.weight) #this calls .getWeight()\n",
    "\n",
    "box.weight = 15 #this called .setWeight()\n",
    "\n",
    "del box.weight #this calls .delWeight()\n",
    "\n",
    "box.weight = -5 #box.__weight is unchanged "
   ]
  },
  {
   "cell_type": "code",
   "execution_count": null,
   "metadata": {},
   "outputs": [],
   "source": []
  }
 ],
 "metadata": {
  "kernelspec": {
   "display_name": "Python 3",
   "language": "python",
   "name": "python3"
  },
  "language_info": {
   "codemirror_mode": {
    "name": "ipython",
    "version": 3
   },
   "file_extension": ".py",
   "mimetype": "text/x-python",
   "name": "python",
   "nbconvert_exporter": "python",
   "pygments_lexer": "ipython3",
   "version": "3.12.1"
  }
 },
 "nbformat": 4,
 "nbformat_minor": 2
}
