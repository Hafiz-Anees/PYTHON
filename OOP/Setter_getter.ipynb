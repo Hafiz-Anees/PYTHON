{
 "cells": [
  {
   "cell_type": "code",
   "execution_count": 11,
   "metadata": {},
   "outputs": [],
   "source": [
    "class Animal:\n",
    "  def __init__(self):\n",
    "    self._name = None\n",
    "    self._age = None\n",
    "\n",
    "    ## setters\n",
    "  def set_name(self, new_name,new_age): \n",
    "    if isinstance(new_name,str,new_age,int):  # isintance The method checks if the value passed to new_age is of type int.\n",
    "      self._name = new_name\n",
    "      self._age = new_age\n",
    "    else:\n",
    "      raise TypeError\n",
    "\n",
    "    # getter\n",
    "  def get_name(self):\n",
    "    return self._name\n",
    "  \n",
    "  def get_age(self):\n",
    "    return self._age\n",
    "\n",
    "  def delete_age(self):\n",
    "    del self._age\n",
    "    print(\"_age Deleted\")\n",
    "\n",
    "cat = Animal()\n",
    "\n",
    "# print(f\"name of cat : {cat.get_name()}\")\n",
    "# cat.set_age(\"12\")\n",
    "\n",
    "# print(f\"name of cat : {cat.get_age()}\")"
   ]
  },
  {
   "cell_type": "code",
   "execution_count": null,
   "metadata": {},
   "outputs": [],
   "source": []
  }
 ],
 "metadata": {
  "kernelspec": {
   "display_name": "Python 3",
   "language": "python",
   "name": "python3"
  },
  "language_info": {
   "codemirror_mode": {
    "name": "ipython",
    "version": 3
   },
   "file_extension": ".py",
   "mimetype": "text/x-python",
   "name": "python",
   "nbconvert_exporter": "python",
   "pygments_lexer": "ipython3",
   "version": "3.12.1"
  }
 },
 "nbformat": 4,
 "nbformat_minor": 2
}
