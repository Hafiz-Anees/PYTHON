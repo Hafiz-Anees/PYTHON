{
 "cells": [
  {
   "cell_type": "markdown",
   "metadata": {},
   "source": [
    "## Abstract Class\n",
    "\n",
    "- An abstract class in Python is a class that **cannot be instantiated** directly and is used as a blueprint for other classes."
   ]
  },
  {
   "cell_type": "code",
   "execution_count": 2,
   "metadata": {},
   "outputs": [
    {
     "name": "stdout",
     "output_type": "stream",
     "text": [
      "Barks\n",
      "Meows\n",
      "Sleeping...\n",
      "Sleeping...\n"
     ]
    }
   ],
   "source": [
    "from abc import ABC, abstractmethod\n",
    "\n",
    "# Abstract class\n",
    "class Animal(ABC):\n",
    "\n",
    "    @abstractmethod\n",
    "    def sound(self):\n",
    "        pass  # Abstract method, no implementation\n",
    "\n",
    "    def sleep(self):\n",
    "        return \"Sleeping...\"\n",
    "\n",
    "# Subclass that must implement the abstract method\n",
    "class Dog(Animal):\n",
    "    def sound(self):\n",
    "        return \"Barks\"\n",
    "\n",
    "class Cat(Animal):\n",
    "    def sound(self):\n",
    "        return \"Meows\"\n",
    "\n",
    "# Creating instances\n",
    "dog = Dog()\n",
    "cat = Cat()\n",
    "\n",
    "print(dog.sound())  # Output: Barks\n",
    "print(cat.sound())  # Output: Meows\n",
    "print(dog.sleep())  # Output: Sleeping...\n",
    "print(cat.sleep())\n"
   ]
  },
  {
   "cell_type": "code",
   "execution_count": null,
   "metadata": {},
   "outputs": [],
   "source": []
  }
 ],
 "metadata": {
  "kernelspec": {
   "display_name": "Python 3",
   "language": "python",
   "name": "python3"
  },
  "language_info": {
   "codemirror_mode": {
    "name": "ipython",
    "version": 3
   },
   "file_extension": ".py",
   "mimetype": "text/x-python",
   "name": "python",
   "nbconvert_exporter": "python",
   "pygments_lexer": "ipython3",
   "version": "3.12.1"
  }
 },
 "nbformat": 4,
 "nbformat_minor": 2
}
