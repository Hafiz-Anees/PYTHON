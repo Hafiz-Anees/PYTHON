{
 "cells": [
  {
   "cell_type": "markdown",
   "id": "a43801ba",
   "metadata": {},
   "source": [
    "# 🤖 What is Machine Learning?\n",
    "\n",
    "**Machine Learning (ML)** is a branch of `Artificial Intelligence (AI)` that enables computers to:\n",
    "`learn from data` and `make predictions or decisions` without being explicitly programmed.\n",
    "Instead of using hard-coded rules, ML models use statistical techniques to discover patterns in data and improve their performance over time.\n",
    "\n",
    "# 🧠 Types of Machine Learning Algorithms\n",
    "\n",
    "\n",
    "\n",
    "# 🔁 Summary Table\n",
    "\n",
    "| Type                   | Labeled Data | Goal                    | Common Use Case            |\n",
    "|------------------------|--------------|-------------------------|-----------------------------|\n",
    "| Supervised Learning    | ✅ Yes       | Predict output          | Spam detection              |\n",
    "| Unsupervised Learning  | ❌ No        | Find hidden patterns    | Customer segmentation       |\n",
    "| Semi-Supervised Learning | ⚠️ Few     | Improve accuracy        | Image/Text classification   |\n",
    "| Reinforcement Learning | ❌ No        | Learn optimal behavior  | Game-playing agents         |\n"
   ]
  },
  {
   "cell_type": "markdown",
   "id": "15a8bf53",
   "metadata": {},
   "source": [
    "# <h1 style=\"color:blue;text-transform:uppercase\">Supervised machine learning algorithms<h1>\n",
    "\n",
    "- Definition:\n",
    "\n",
    "The model learns from `labeled data` the training data includes both input features X and the correct output Y.\n",
    "\n",
    "- Goal:\n",
    "Predict the output for unseen data.\n",
    "\n",
    "- Examples:\n",
    "\n",
    "Predicting house prices (Regression)\n",
    "Classifying emails as spam or not (Classification)\n",
    "\n",
    "![supervised learning algorithms](images/supervised_algo.png)\n"
   ]
  },
  {
   "cell_type": "markdown",
   "id": "582448bb",
   "metadata": {},
   "source": [
    "# <h1 style=\"color:blue;text-transform:uppercase\">Unsupervised machine learning algorithms<h1>\n",
    "\n",
    "- Definition:\n",
    "The model learns from `unlabeled data ` — it finds hidden patterns or structures without predefined outputs.\n",
    "\n",
    "- Goal:\n",
    "Discover groupings or structure in the data.\n",
    "\n",
    "- Examples:\n",
    "\n",
    "Grouping customers by behavior (`Clustering`)\n",
    "\n",
    "Data compression (`Dimensionality Reduction`)\n",
    "\n",
    "![unsupervised learning algorithm](images/unsupervised.png)"
   ]
  },
  {
   "cell_type": "markdown",
   "id": "3fc2195d",
   "metadata": {},
   "source": [
    "# <h1 style=\"color:blue;text-transform:uppercase\">Semi-supervised machine learning<h1>\n",
    "\n",
    "Semi-supervised learning lies between supervised and unsupervised learning. It uses:\n",
    "\n",
    "- A small amount of labeled data\n",
    "\n",
    "- A large amount of unlabeled data\n",
    "\n",
    "This is useful when labeling data is expensive or time-consuming.\n",
    "\n",
    "<h2 style=\"color:red\">Algorithms</h2>\n",
    "\n",
    "| Algorithm      | Description |\n",
    "|----------------|-------------|\n",
    "| **Self-training** | The model is trained on labeled data, then used to label some of the unlabeled data (pseudo-labeling), and retrained. |\n",
    "| **Co-training**   | Two models are trained on different views/features of the data and help label each other’s unlabeled data. |\n"
   ]
  },
  {
   "cell_type": "markdown",
   "id": "1be189d6",
   "metadata": {},
   "source": [
    "# <h1 style=\"color:blue;text-transform:uppercase\">Reinforecement Learning<h1>\n",
    "\n",
    "- In Reinforcement Learning, `an agent learns to make decisions by interacting with an environment`. \n",
    "- It gets rewards or penalties for actions and learns to `maximize total reward`.\n",
    "\n",
    "<h2 style=\"color:red\">Algorithms</h2>\n",
    "\n",
    "| Algorithm                 | Description |\n",
    "|---------------------------|-------------|\n",
    "| **Q-Learning**            | Learns the value (Q-value) of actions in states to make optimal decisions. |\n",
    "| **Deep Q-Networks (DQN)** | Uses neural networks to approximate Q-values for large or continuous state spaces. |\n",
    "| **Policy Gradient**       | Directly optimizes the policy function to choose actions. |\n"
   ]
  },
  {
   "cell_type": "code",
   "execution_count": null,
   "id": "f76d5d89",
   "metadata": {
    "vscode": {
     "languageId": "plaintext"
    }
   },
   "outputs": [],
   "source": []
  }
 ],
 "metadata": {
  "language_info": {
   "name": "python"
  }
 },
 "nbformat": 4,
 "nbformat_minor": 5
}
